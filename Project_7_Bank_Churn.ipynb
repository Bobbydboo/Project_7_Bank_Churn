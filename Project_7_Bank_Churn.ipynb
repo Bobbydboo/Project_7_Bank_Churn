{
 "cells": [
  {
   "cell_type": "markdown",
   "metadata": {
    "toc": true
   },
   "source": [
    "<h1>Содержание<span class=\"tocSkip\"></span></h1>\n",
    "<div class=\"toc\"><ul class=\"toc-item\"><li><span><a href=\"#Введение\" data-toc-modified-id=\"Введение-1\"><span class=\"toc-item-num\">1&nbsp;&nbsp;</span>Введение</a></span></li><li><span><a href=\"#Цель-проекта\" data-toc-modified-id=\"Цель-проекта-2\"><span class=\"toc-item-num\">2&nbsp;&nbsp;</span>Цель проекта</a></span></li><li><span><a href=\"#Оценочные-метрики\" data-toc-modified-id=\"Оценочные-метрики-3\"><span class=\"toc-item-num\">3&nbsp;&nbsp;</span>Оценочные метрики</a></span></li><li><span><a href=\"#Шаги-проекта\" data-toc-modified-id=\"Шаги-проекта-4\"><span class=\"toc-item-num\">4&nbsp;&nbsp;</span>Шаги проекта</a></span></li><li><span><a href=\"#Импорт-библиотек\" data-toc-modified-id=\"Импорт-библиотек-5\"><span class=\"toc-item-num\">5&nbsp;&nbsp;</span>Импорт библиотек</a></span></li><li><span><a href=\"#Импорт-данных\" data-toc-modified-id=\"Импорт-данных-6\"><span class=\"toc-item-num\">6&nbsp;&nbsp;</span>Импорт данных</a></span></li><li><span><a href=\"#Исследование-задачи\" data-toc-modified-id=\"Исследование-задачи-7\"><span class=\"toc-item-num\">7&nbsp;&nbsp;</span>Исследование задачи</a></span></li><li><span><a href=\"#Описание-данных\" data-toc-modified-id=\"Описание-данных-8\"><span class=\"toc-item-num\">8&nbsp;&nbsp;</span>Описание данных</a></span><ul class=\"toc-item\"><li><span><a href=\"#Признаки:\" data-toc-modified-id=\"Признаки:-8.1\"><span class=\"toc-item-num\">8.1&nbsp;&nbsp;</span>Признаки:</a></span></li><li><span><a href=\"#Целевой-признак:\" data-toc-modified-id=\"Целевой-признак:-8.2\"><span class=\"toc-item-num\">8.2&nbsp;&nbsp;</span>Целевой признак:</a></span></li><li><span><a href=\"#Вывод-по-блоку-:\" data-toc-modified-id=\"Вывод-по-блоку-:-8.3\"><span class=\"toc-item-num\">8.3&nbsp;&nbsp;</span>Вывод по блоку :</a></span></li><li><span><a href=\"#Подготовка-данных\" data-toc-modified-id=\"Подготовка-данных-8.4\"><span class=\"toc-item-num\">8.4&nbsp;&nbsp;</span>Подготовка данных</a></span></li><li><span><a href=\"#Анализ-данных\" data-toc-modified-id=\"Анализ-данных-8.5\"><span class=\"toc-item-num\">8.5&nbsp;&nbsp;</span>Анализ данных</a></span></li><li><span><a href=\"#Корреляционный-анализ\" data-toc-modified-id=\"Корреляционный-анализ-8.6\"><span class=\"toc-item-num\">8.6&nbsp;&nbsp;</span>Корреляционный анализ</a></span></li></ul></li><li><span><a href=\"#Подготовка-X_train,-X_test,-y_train,-y_test\" data-toc-modified-id=\"Подготовка-X_train,-X_test,-y_train,-y_test-9\"><span class=\"toc-item-num\">9&nbsp;&nbsp;</span>Подготовка X_train, X_test, y_train, y_test</a></span></li><li><span><a href=\"#Моделирование-с--использованием--LogisticRegression\" data-toc-modified-id=\"Моделирование-с--использованием--LogisticRegression-10\"><span class=\"toc-item-num\">10&nbsp;&nbsp;</span>Моделирование с  использованием  LogisticRegression</a></span></li><li><span><a href=\"#Моделирование-с--использованием--RandomForestClassifier\" data-toc-modified-id=\"Моделирование-с--использованием--RandomForestClassifier-11\"><span class=\"toc-item-num\">11&nbsp;&nbsp;</span>Моделирование с  использованием  RandomForestClassifier</a></span></li><li><span><a href=\"#Моделирование-с--использованием--DecisionTreeClassifier\" data-toc-modified-id=\"Моделирование-с--использованием--DecisionTreeClassifier-12\"><span class=\"toc-item-num\">12&nbsp;&nbsp;</span>Моделирование с  использованием  DecisionTreeClassifier</a></span></li><li><span><a href=\"#Сравнение-с-dummy-моделью\" data-toc-modified-id=\"Сравнение-с-dummy-моделью-13\"><span class=\"toc-item-num\">13&nbsp;&nbsp;</span>Сравнение с dummy моделью</a></span></li><li><span><a href=\"#Выводы\" data-toc-modified-id=\"Выводы-14\"><span class=\"toc-item-num\">14&nbsp;&nbsp;</span>Выводы</a></span></li><li><span><a href=\"#Выбранный-набор-признаков\" data-toc-modified-id=\"Выбранный-набор-признаков-15\"><span class=\"toc-item-num\">15&nbsp;&nbsp;</span>Выбранный набор признаков</a></span></li><li><span><a href=\"#Моделирование-и-выбор-модели\" data-toc-modified-id=\"Моделирование-и-выбор-модели-16\"><span class=\"toc-item-num\">16&nbsp;&nbsp;</span>Моделирование и выбор модели</a></span></li></ul></div>"
   ]
  },
  {
   "cell_type": "markdown",
   "metadata": {},
   "source": [
    "# Описание проекта \"Прогнозирование ухода клиентов из \"Бета-Банка\"\"\n",
    "\n",
    "## Введение\n",
    "\n",
    "Ситуация, когда клиенты начинают уходить из банка, может стать серьезной проблемой для любой финансовой организации. Потеря клиентов может привести к убыткам и необходимости привлекать новых клиентов, что обычно требует больших финансовых затрат. Для предотвращения ухода текущих клиентов и сокращения затрат на привлечение новых, Бета-Банк решает воспользоваться анализом данных и машинным обучением.\n",
    "\n",
    "## Цель проекта\n",
    "\n",
    "Целью проекта является создание модели, способной прогнозировать, уйдет ли клиент из банка в ближайшее время или нет. Для достижения этой цели мы будем использовать исторические данные о поведении клиентов и расторжении договоров с банком, доступные на Kaggle.\n",
    "\n",
    "## Оценочные метрики\n",
    "\n",
    "Для оценки качества модели мы будем использовать **F1-меру**, которую необходимо довести до значения не менее 0.59. Эта метрика позволит нам более точно оценить способность модели предсказывать уход клиентов. Дополнительно, мы будем измерять **AUC-ROC**, чтобы оценить общую производительность модели и сравнить ее с **F1-мерой**.\n",
    "\n",
    "## Шаги проекта\n",
    "\n",
    "Для достижения поставленной цели, мы предпримем следующие шаги:\n",
    "\n",
    "1. Подготовим и проанализируем данные, выявим основные признаки, влияющие на уход клиентов.\n",
    "2. Разделим данные на обучающую и тестовую выборки.\n",
    "3. Построим модель машинного обучения, которая будет обучаться на обучающей выборке.\n",
    "4. Оценим производительность модели на тестовой выборке, измеряя **F1-меру** и **AUC-ROC**.\n",
    "5. Если **F1-мера** не достигает требуемого значения 0.59, будем проводить тюнинг модели, изменяя гиперпараметры и/или используя разные алгоритмы машинного обучения.\n",
    "6. После достижения целевой метрики, модель будет готова к использованию для прогнозирования ухода клиентов в будущем.\n",
    "\n",
    "Этот проект поможет Бета-Банку сэкономить ресурсы и удерживать своих клиентов, что в конечном итоге приведет к увеличению прибыли и укреплению позиции на рынке.\n"
   ]
  },
  {
   "cell_type": "markdown",
   "metadata": {},
   "source": [
    "## Импорт библиотек"
   ]
  },
  {
   "cell_type": "code",
   "execution_count": 1,
   "metadata": {},
   "outputs": [],
   "source": [
    "RANDOM_STATE=12345\n",
    "import pandas as pd\n",
    "import datetime as dt\n",
    "import plotly.express as px\n",
    "import seaborn as sns\n",
    "import matplotlib.pyplot as plt\n",
    "import numpy as np\n",
    "from sklearn.model_selection import train_test_split\n",
    "from sklearn.preprocessing import StandardScaler\n",
    "from sklearn.linear_model import LinearRegression\n",
    "from sklearn.tree import DecisionTreeRegressor\n",
    "from sklearn.ensemble import RandomForestRegressor\n",
    "from sklearn.metrics import  r2_score\n",
    "from sklearn.metrics import mean_absolute_error\n",
    "import warnings\n",
    "warnings.filterwarnings('ignore')\n",
    "from sklearn.tree import DecisionTreeClassifier\n",
    "from sklearn.metrics import confusion_matrix\n",
    "import scipy.stats as st\n",
    "from sklearn.tree import DecisionTreeClassifier \n",
    "from sklearn.metrics import accuracy_score\n",
    "from sklearn.ensemble import RandomForestClassifier\n",
    "from sklearn.metrics import mean_squared_error\n",
    "from sklearn.linear_model import LogisticRegression\n",
    "from scipy import stats as st\n",
    "from sklearn.metrics import precision_score\n",
    "from sklearn.metrics import recall_score\n",
    "from sklearn.metrics import f1_score\n",
    "from sklearn.metrics import classification_report\n",
    "from sklearn.utils import shuffle\n",
    "\n",
    "from sklearn.tree import DecisionTreeClassifier\n",
    "from sklearn.metrics import roc_curve \n",
    "from sklearn.metrics import precision_recall_curve\n",
    "\n",
    "from sklearn.metrics import roc_auc_score\n",
    "from sklearn.metrics import classification_report, confusion_matrix, accuracy_score, f1_score, roc_auc_score\n",
    "\n",
    "import phik\n",
    "from phik.report import plot_correlation_matrix\n",
    "from phik import report\n",
    "\n",
    "from sklearn.pipeline import Pipeline\n",
    "from sklearn.preprocessing import RobustScaler, OneHotEncoder\n",
    "from sklearn.compose import ColumnTransformer\n",
    "from sklearn.linear_model import LogisticRegression\n",
    "from sklearn.utils import class_weight\n",
    "\n",
    "from sklearn.model_selection import train_test_split\n",
    "from sklearn.ensemble import RandomForestClassifier\n",
    "\n",
    "from sklearn.model_selection import cross_val_score\n",
    "from sklearn.dummy import DummyClassifier\n",
    "import matplotlib.pyplot as plt\n",
    "from sklearn.metrics import roc_curve, auc"
   ]
  },
  {
   "cell_type": "markdown",
   "metadata": {},
   "source": [
    "## Импорт данных"
   ]
  },
  {
   "cell_type": "code",
   "execution_count": 2,
   "metadata": {},
   "outputs": [],
   "source": [
    "try:\n",
    "    df = pd.read_csv('/datasets/Churn.csv')\n",
    "except:\n",
    "    df=pd.read_csv(r'C:\\Users\\Admin\\Desktop\\Bank\\Churn.csv')\n"
   ]
  },
  {
   "cell_type": "code",
   "execution_count": 3,
   "metadata": {},
   "outputs": [],
   "source": [
    "#Функция вывода информации о массиве первые и последние 5 строк\n",
    "def headtail(df_name):\n",
    "    display('Head 5')\n",
    "    display(df_name.head(5))\n",
    "    display('Tail 5')\n",
    "    display(df_name.tail(5))"
   ]
  },
  {
   "cell_type": "markdown",
   "metadata": {},
   "source": [
    "## Исследование задачи"
   ]
  },
  {
   "cell_type": "code",
   "execution_count": 4,
   "metadata": {},
   "outputs": [
    {
     "data": {
      "text/plain": [
       "'Head 5'"
      ]
     },
     "metadata": {},
     "output_type": "display_data"
    },
    {
     "data": {
      "text/html": [
       "<div>\n",
       "<style scoped>\n",
       "    .dataframe tbody tr th:only-of-type {\n",
       "        vertical-align: middle;\n",
       "    }\n",
       "\n",
       "    .dataframe tbody tr th {\n",
       "        vertical-align: top;\n",
       "    }\n",
       "\n",
       "    .dataframe thead th {\n",
       "        text-align: right;\n",
       "    }\n",
       "</style>\n",
       "<table border=\"1\" class=\"dataframe\">\n",
       "  <thead>\n",
       "    <tr style=\"text-align: right;\">\n",
       "      <th></th>\n",
       "      <th>RowNumber</th>\n",
       "      <th>CustomerId</th>\n",
       "      <th>Surname</th>\n",
       "      <th>CreditScore</th>\n",
       "      <th>Geography</th>\n",
       "      <th>Gender</th>\n",
       "      <th>Age</th>\n",
       "      <th>Tenure</th>\n",
       "      <th>Balance</th>\n",
       "      <th>NumOfProducts</th>\n",
       "      <th>HasCrCard</th>\n",
       "      <th>IsActiveMember</th>\n",
       "      <th>EstimatedSalary</th>\n",
       "      <th>Exited</th>\n",
       "    </tr>\n",
       "  </thead>\n",
       "  <tbody>\n",
       "    <tr>\n",
       "      <th>0</th>\n",
       "      <td>1</td>\n",
       "      <td>15634602</td>\n",
       "      <td>Hargrave</td>\n",
       "      <td>619</td>\n",
       "      <td>France</td>\n",
       "      <td>Female</td>\n",
       "      <td>42</td>\n",
       "      <td>2.0</td>\n",
       "      <td>0.00</td>\n",
       "      <td>1</td>\n",
       "      <td>1</td>\n",
       "      <td>1</td>\n",
       "      <td>101348.88</td>\n",
       "      <td>1</td>\n",
       "    </tr>\n",
       "    <tr>\n",
       "      <th>1</th>\n",
       "      <td>2</td>\n",
       "      <td>15647311</td>\n",
       "      <td>Hill</td>\n",
       "      <td>608</td>\n",
       "      <td>Spain</td>\n",
       "      <td>Female</td>\n",
       "      <td>41</td>\n",
       "      <td>1.0</td>\n",
       "      <td>83807.86</td>\n",
       "      <td>1</td>\n",
       "      <td>0</td>\n",
       "      <td>1</td>\n",
       "      <td>112542.58</td>\n",
       "      <td>0</td>\n",
       "    </tr>\n",
       "    <tr>\n",
       "      <th>2</th>\n",
       "      <td>3</td>\n",
       "      <td>15619304</td>\n",
       "      <td>Onio</td>\n",
       "      <td>502</td>\n",
       "      <td>France</td>\n",
       "      <td>Female</td>\n",
       "      <td>42</td>\n",
       "      <td>8.0</td>\n",
       "      <td>159660.80</td>\n",
       "      <td>3</td>\n",
       "      <td>1</td>\n",
       "      <td>0</td>\n",
       "      <td>113931.57</td>\n",
       "      <td>1</td>\n",
       "    </tr>\n",
       "    <tr>\n",
       "      <th>3</th>\n",
       "      <td>4</td>\n",
       "      <td>15701354</td>\n",
       "      <td>Boni</td>\n",
       "      <td>699</td>\n",
       "      <td>France</td>\n",
       "      <td>Female</td>\n",
       "      <td>39</td>\n",
       "      <td>1.0</td>\n",
       "      <td>0.00</td>\n",
       "      <td>2</td>\n",
       "      <td>0</td>\n",
       "      <td>0</td>\n",
       "      <td>93826.63</td>\n",
       "      <td>0</td>\n",
       "    </tr>\n",
       "    <tr>\n",
       "      <th>4</th>\n",
       "      <td>5</td>\n",
       "      <td>15737888</td>\n",
       "      <td>Mitchell</td>\n",
       "      <td>850</td>\n",
       "      <td>Spain</td>\n",
       "      <td>Female</td>\n",
       "      <td>43</td>\n",
       "      <td>2.0</td>\n",
       "      <td>125510.82</td>\n",
       "      <td>1</td>\n",
       "      <td>1</td>\n",
       "      <td>1</td>\n",
       "      <td>79084.10</td>\n",
       "      <td>0</td>\n",
       "    </tr>\n",
       "  </tbody>\n",
       "</table>\n",
       "</div>"
      ],
      "text/plain": [
       "   RowNumber  CustomerId   Surname  CreditScore Geography  Gender  Age  \\\n",
       "0          1    15634602  Hargrave          619    France  Female   42   \n",
       "1          2    15647311      Hill          608     Spain  Female   41   \n",
       "2          3    15619304      Onio          502    France  Female   42   \n",
       "3          4    15701354      Boni          699    France  Female   39   \n",
       "4          5    15737888  Mitchell          850     Spain  Female   43   \n",
       "\n",
       "   Tenure    Balance  NumOfProducts  HasCrCard  IsActiveMember  \\\n",
       "0     2.0       0.00              1          1               1   \n",
       "1     1.0   83807.86              1          0               1   \n",
       "2     8.0  159660.80              3          1               0   \n",
       "3     1.0       0.00              2          0               0   \n",
       "4     2.0  125510.82              1          1               1   \n",
       "\n",
       "   EstimatedSalary  Exited  \n",
       "0        101348.88       1  \n",
       "1        112542.58       0  \n",
       "2        113931.57       1  \n",
       "3         93826.63       0  \n",
       "4         79084.10       0  "
      ]
     },
     "metadata": {},
     "output_type": "display_data"
    },
    {
     "data": {
      "text/plain": [
       "'Tail 5'"
      ]
     },
     "metadata": {},
     "output_type": "display_data"
    },
    {
     "data": {
      "text/html": [
       "<div>\n",
       "<style scoped>\n",
       "    .dataframe tbody tr th:only-of-type {\n",
       "        vertical-align: middle;\n",
       "    }\n",
       "\n",
       "    .dataframe tbody tr th {\n",
       "        vertical-align: top;\n",
       "    }\n",
       "\n",
       "    .dataframe thead th {\n",
       "        text-align: right;\n",
       "    }\n",
       "</style>\n",
       "<table border=\"1\" class=\"dataframe\">\n",
       "  <thead>\n",
       "    <tr style=\"text-align: right;\">\n",
       "      <th></th>\n",
       "      <th>RowNumber</th>\n",
       "      <th>CustomerId</th>\n",
       "      <th>Surname</th>\n",
       "      <th>CreditScore</th>\n",
       "      <th>Geography</th>\n",
       "      <th>Gender</th>\n",
       "      <th>Age</th>\n",
       "      <th>Tenure</th>\n",
       "      <th>Balance</th>\n",
       "      <th>NumOfProducts</th>\n",
       "      <th>HasCrCard</th>\n",
       "      <th>IsActiveMember</th>\n",
       "      <th>EstimatedSalary</th>\n",
       "      <th>Exited</th>\n",
       "    </tr>\n",
       "  </thead>\n",
       "  <tbody>\n",
       "    <tr>\n",
       "      <th>9995</th>\n",
       "      <td>9996</td>\n",
       "      <td>15606229</td>\n",
       "      <td>Obijiaku</td>\n",
       "      <td>771</td>\n",
       "      <td>France</td>\n",
       "      <td>Male</td>\n",
       "      <td>39</td>\n",
       "      <td>5.0</td>\n",
       "      <td>0.00</td>\n",
       "      <td>2</td>\n",
       "      <td>1</td>\n",
       "      <td>0</td>\n",
       "      <td>96270.64</td>\n",
       "      <td>0</td>\n",
       "    </tr>\n",
       "    <tr>\n",
       "      <th>9996</th>\n",
       "      <td>9997</td>\n",
       "      <td>15569892</td>\n",
       "      <td>Johnstone</td>\n",
       "      <td>516</td>\n",
       "      <td>France</td>\n",
       "      <td>Male</td>\n",
       "      <td>35</td>\n",
       "      <td>10.0</td>\n",
       "      <td>57369.61</td>\n",
       "      <td>1</td>\n",
       "      <td>1</td>\n",
       "      <td>1</td>\n",
       "      <td>101699.77</td>\n",
       "      <td>0</td>\n",
       "    </tr>\n",
       "    <tr>\n",
       "      <th>9997</th>\n",
       "      <td>9998</td>\n",
       "      <td>15584532</td>\n",
       "      <td>Liu</td>\n",
       "      <td>709</td>\n",
       "      <td>France</td>\n",
       "      <td>Female</td>\n",
       "      <td>36</td>\n",
       "      <td>7.0</td>\n",
       "      <td>0.00</td>\n",
       "      <td>1</td>\n",
       "      <td>0</td>\n",
       "      <td>1</td>\n",
       "      <td>42085.58</td>\n",
       "      <td>1</td>\n",
       "    </tr>\n",
       "    <tr>\n",
       "      <th>9998</th>\n",
       "      <td>9999</td>\n",
       "      <td>15682355</td>\n",
       "      <td>Sabbatini</td>\n",
       "      <td>772</td>\n",
       "      <td>Germany</td>\n",
       "      <td>Male</td>\n",
       "      <td>42</td>\n",
       "      <td>3.0</td>\n",
       "      <td>75075.31</td>\n",
       "      <td>2</td>\n",
       "      <td>1</td>\n",
       "      <td>0</td>\n",
       "      <td>92888.52</td>\n",
       "      <td>1</td>\n",
       "    </tr>\n",
       "    <tr>\n",
       "      <th>9999</th>\n",
       "      <td>10000</td>\n",
       "      <td>15628319</td>\n",
       "      <td>Walker</td>\n",
       "      <td>792</td>\n",
       "      <td>France</td>\n",
       "      <td>Female</td>\n",
       "      <td>28</td>\n",
       "      <td>NaN</td>\n",
       "      <td>130142.79</td>\n",
       "      <td>1</td>\n",
       "      <td>1</td>\n",
       "      <td>0</td>\n",
       "      <td>38190.78</td>\n",
       "      <td>0</td>\n",
       "    </tr>\n",
       "  </tbody>\n",
       "</table>\n",
       "</div>"
      ],
      "text/plain": [
       "      RowNumber  CustomerId    Surname  CreditScore Geography  Gender  Age  \\\n",
       "9995       9996    15606229   Obijiaku          771    France    Male   39   \n",
       "9996       9997    15569892  Johnstone          516    France    Male   35   \n",
       "9997       9998    15584532        Liu          709    France  Female   36   \n",
       "9998       9999    15682355  Sabbatini          772   Germany    Male   42   \n",
       "9999      10000    15628319     Walker          792    France  Female   28   \n",
       "\n",
       "      Tenure    Balance  NumOfProducts  HasCrCard  IsActiveMember  \\\n",
       "9995     5.0       0.00              2          1               0   \n",
       "9996    10.0   57369.61              1          1               1   \n",
       "9997     7.0       0.00              1          0               1   \n",
       "9998     3.0   75075.31              2          1               0   \n",
       "9999     NaN  130142.79              1          1               0   \n",
       "\n",
       "      EstimatedSalary  Exited  \n",
       "9995         96270.64       0  \n",
       "9996        101699.77       0  \n",
       "9997         42085.58       1  \n",
       "9998         92888.52       1  \n",
       "9999         38190.78       0  "
      ]
     },
     "metadata": {},
     "output_type": "display_data"
    }
   ],
   "source": [
    "headtail(df)"
   ]
  },
  {
   "cell_type": "code",
   "execution_count": 5,
   "metadata": {},
   "outputs": [
    {
     "name": "stdout",
     "output_type": "stream",
     "text": [
      "В массиве 10000 строк и 14 столбцов\n"
     ]
    }
   ],
   "source": [
    "print('В массиве',df.shape[0],'строк','и',df.shape[1],'столбцов' )"
   ]
  },
  {
   "cell_type": "code",
   "execution_count": 6,
   "metadata": {},
   "outputs": [
    {
     "data": {
      "text/plain": [
       "RowNumber            int64\n",
       "CustomerId           int64\n",
       "Surname             object\n",
       "CreditScore          int64\n",
       "Geography           object\n",
       "Gender              object\n",
       "Age                  int64\n",
       "Tenure             float64\n",
       "Balance            float64\n",
       "NumOfProducts        int64\n",
       "HasCrCard            int64\n",
       "IsActiveMember       int64\n",
       "EstimatedSalary    float64\n",
       "Exited               int64\n",
       "dtype: object"
      ]
     },
     "execution_count": 6,
     "metadata": {},
     "output_type": "execute_result"
    }
   ],
   "source": [
    "df.dtypes"
   ]
  },
  {
   "cell_type": "code",
   "execution_count": 7,
   "metadata": {},
   "outputs": [
    {
     "name": "stdout",
     "output_type": "stream",
     "text": [
      "<class 'pandas.core.frame.DataFrame'>\n",
      "RangeIndex: 10000 entries, 0 to 9999\n",
      "Data columns (total 14 columns):\n",
      " #   Column           Non-Null Count  Dtype  \n",
      "---  ------           --------------  -----  \n",
      " 0   RowNumber        10000 non-null  int64  \n",
      " 1   CustomerId       10000 non-null  int64  \n",
      " 2   Surname          10000 non-null  object \n",
      " 3   CreditScore      10000 non-null  int64  \n",
      " 4   Geography        10000 non-null  object \n",
      " 5   Gender           10000 non-null  object \n",
      " 6   Age              10000 non-null  int64  \n",
      " 7   Tenure           9091 non-null   float64\n",
      " 8   Balance          10000 non-null  float64\n",
      " 9   NumOfProducts    10000 non-null  int64  \n",
      " 10  HasCrCard        10000 non-null  int64  \n",
      " 11  IsActiveMember   10000 non-null  int64  \n",
      " 12  EstimatedSalary  10000 non-null  float64\n",
      " 13  Exited           10000 non-null  int64  \n",
      "dtypes: float64(3), int64(8), object(3)\n",
      "memory usage: 1.1+ MB\n"
     ]
    },
    {
     "data": {
      "text/plain": [
       "None"
      ]
     },
     "metadata": {},
     "output_type": "display_data"
    }
   ],
   "source": [
    "display(df.info())"
   ]
  },
  {
   "cell_type": "code",
   "execution_count": 8,
   "metadata": {},
   "outputs": [
    {
     "name": "stdout",
     "output_type": "stream",
     "text": [
      "Пропусков по полю Tenure 909\n"
     ]
    }
   ],
   "source": [
    "print('Пропусков по полю Tenure',df['Tenure'].isna().sum())"
   ]
  },
  {
   "cell_type": "markdown",
   "metadata": {},
   "source": [
    "Данные имеют пропуски по полю  'Tenure'. Произведем поиск явных дубликатов"
   ]
  },
  {
   "cell_type": "code",
   "execution_count": 9,
   "metadata": {},
   "outputs": [
    {
     "data": {
      "text/plain": [
       "0"
      ]
     },
     "metadata": {},
     "output_type": "display_data"
    }
   ],
   "source": [
    "display(df.duplicated().sum())"
   ]
  },
  {
   "cell_type": "markdown",
   "metadata": {},
   "source": [
    "Вот описание данных в формате Markdown:\n",
    "\n",
    "## Описание данных\n",
    "\n",
    "Данные находятся в файле `/datasets/Churn.csv` и представляют собой набор информации о клиентах \"Бета-Банка\" с различными признаками, включая информацию о факте ухода клиента.\n",
    "\n",
    "### Признаки:\n",
    "\n",
    "1. `RowNumber` — индекс строки в данных.\n",
    "2. `CustomerId` — уникальный идентификатор клиента.\n",
    "3. `Surname` — фамилия клиента.\n",
    "4. `CreditScore` — кредитный рейтинг клиента.\n",
    "5. `Geography` — страна проживания клиента.\n",
    "6. `Gender` — пол клиента (мужской или женский).\n",
    "7. `Age` — возраст клиента.\n",
    "8. `Tenure` — количество лет, в течение которых клиент является клиентом банка.\n",
    "9. `Balance` — баланс на счете клиента.\n",
    "10. `NumOfProducts` — количество продуктов банка, используемых клиентом.\n",
    "11. `HasCrCard` — наличие кредитной карты у клиента (1 - есть, 0 - отсутствует).\n",
    "12. `IsActiveMember` — активность клиента (1 - активный, 0 - неактивный).\n",
    "13. `EstimatedSalary` — предполагаемая зарплата клиента.\n",
    "\n",
    "### Целевой признак:\n",
    "\n",
    "- `Exited` — факт ухода клиента (1 - клиент ушел, 0 - клиент остался).\n",
    "\n",
    "Данные предоставляют информацию о клиентах банка и их поведении, а также описывают, ушли ли они из банка или остались. Эти данные будут использоваться для построения модели прогнозирования ухода клиентов."
   ]
  },
  {
   "cell_type": "markdown",
   "metadata": {},
   "source": [
    "**Выводы**\n",
    "\n",
    "- Признак `Tenure`, у которого `isna`, может представлять новых клиентов банка, поэтому мы можем создать отдельную группу для них. Целевой признак будет в формате `bool`, где `True` обозначает уход клиента (1), а `False` - оставшегося клиента (0).\n",
    "\n",
    "- Индекс строки (`RowNumber`) выглядит как мусор при выгрузке данных, поэтому мы удалим его из набора данных.\n",
    "\n",
    "- Признак `Surname` не предоставляет полезной информации для анализа ухода клиентов, поэтому мы также удалим его.\n",
    "\n",
    "- Признак `NumOfProducts` может иметь зависимость с другими признаками, поэтому мы рассмотрим его для возможного исключения из анализа после дополнительного исследования.\n",
    "\n",
    "- Признаки `HasCrCard` и `EstimatedSalary` также подвергнуты рассмотрению на предмет сильной зависимости от других признаков и возможности их исключения.\n",
    "\n",
    "Данные будут предварительно обработаны и проанализированы, чтобы учесть указанные изменения и определить наилучший набор признаков для построения модели прогнозирования ухода клиентов."
   ]
  },
  {
   "cell_type": "code",
   "execution_count": 10,
   "metadata": {},
   "outputs": [
    {
     "data": {
      "text/html": [
       "<div>\n",
       "<style scoped>\n",
       "    .dataframe tbody tr th:only-of-type {\n",
       "        vertical-align: middle;\n",
       "    }\n",
       "\n",
       "    .dataframe tbody tr th {\n",
       "        vertical-align: top;\n",
       "    }\n",
       "\n",
       "    .dataframe thead th {\n",
       "        text-align: right;\n",
       "    }\n",
       "</style>\n",
       "<table border=\"1\" class=\"dataframe\">\n",
       "  <thead>\n",
       "    <tr style=\"text-align: right;\">\n",
       "      <th></th>\n",
       "      <th>RowNumber</th>\n",
       "      <th>CustomerId</th>\n",
       "      <th>CreditScore</th>\n",
       "      <th>Age</th>\n",
       "      <th>Tenure</th>\n",
       "      <th>Balance</th>\n",
       "      <th>NumOfProducts</th>\n",
       "      <th>HasCrCard</th>\n",
       "      <th>IsActiveMember</th>\n",
       "      <th>EstimatedSalary</th>\n",
       "      <th>Exited</th>\n",
       "    </tr>\n",
       "  </thead>\n",
       "  <tbody>\n",
       "    <tr>\n",
       "      <th>count</th>\n",
       "      <td>10000.00000</td>\n",
       "      <td>1.000000e+04</td>\n",
       "      <td>10000.000000</td>\n",
       "      <td>10000.000000</td>\n",
       "      <td>9091.000000</td>\n",
       "      <td>10000.000000</td>\n",
       "      <td>10000.000000</td>\n",
       "      <td>10000.00000</td>\n",
       "      <td>10000.000000</td>\n",
       "      <td>10000.000000</td>\n",
       "      <td>10000.000000</td>\n",
       "    </tr>\n",
       "    <tr>\n",
       "      <th>mean</th>\n",
       "      <td>5000.50000</td>\n",
       "      <td>1.569094e+07</td>\n",
       "      <td>650.528800</td>\n",
       "      <td>38.921800</td>\n",
       "      <td>4.997690</td>\n",
       "      <td>76485.889288</td>\n",
       "      <td>1.530200</td>\n",
       "      <td>0.70550</td>\n",
       "      <td>0.515100</td>\n",
       "      <td>100090.239881</td>\n",
       "      <td>0.203700</td>\n",
       "    </tr>\n",
       "    <tr>\n",
       "      <th>std</th>\n",
       "      <td>2886.89568</td>\n",
       "      <td>7.193619e+04</td>\n",
       "      <td>96.653299</td>\n",
       "      <td>10.487806</td>\n",
       "      <td>2.894723</td>\n",
       "      <td>62397.405202</td>\n",
       "      <td>0.581654</td>\n",
       "      <td>0.45584</td>\n",
       "      <td>0.499797</td>\n",
       "      <td>57510.492818</td>\n",
       "      <td>0.402769</td>\n",
       "    </tr>\n",
       "    <tr>\n",
       "      <th>min</th>\n",
       "      <td>1.00000</td>\n",
       "      <td>1.556570e+07</td>\n",
       "      <td>350.000000</td>\n",
       "      <td>18.000000</td>\n",
       "      <td>0.000000</td>\n",
       "      <td>0.000000</td>\n",
       "      <td>1.000000</td>\n",
       "      <td>0.00000</td>\n",
       "      <td>0.000000</td>\n",
       "      <td>11.580000</td>\n",
       "      <td>0.000000</td>\n",
       "    </tr>\n",
       "    <tr>\n",
       "      <th>25%</th>\n",
       "      <td>2500.75000</td>\n",
       "      <td>1.562853e+07</td>\n",
       "      <td>584.000000</td>\n",
       "      <td>32.000000</td>\n",
       "      <td>2.000000</td>\n",
       "      <td>0.000000</td>\n",
       "      <td>1.000000</td>\n",
       "      <td>0.00000</td>\n",
       "      <td>0.000000</td>\n",
       "      <td>51002.110000</td>\n",
       "      <td>0.000000</td>\n",
       "    </tr>\n",
       "    <tr>\n",
       "      <th>50%</th>\n",
       "      <td>5000.50000</td>\n",
       "      <td>1.569074e+07</td>\n",
       "      <td>652.000000</td>\n",
       "      <td>37.000000</td>\n",
       "      <td>5.000000</td>\n",
       "      <td>97198.540000</td>\n",
       "      <td>1.000000</td>\n",
       "      <td>1.00000</td>\n",
       "      <td>1.000000</td>\n",
       "      <td>100193.915000</td>\n",
       "      <td>0.000000</td>\n",
       "    </tr>\n",
       "    <tr>\n",
       "      <th>75%</th>\n",
       "      <td>7500.25000</td>\n",
       "      <td>1.575323e+07</td>\n",
       "      <td>718.000000</td>\n",
       "      <td>44.000000</td>\n",
       "      <td>7.000000</td>\n",
       "      <td>127644.240000</td>\n",
       "      <td>2.000000</td>\n",
       "      <td>1.00000</td>\n",
       "      <td>1.000000</td>\n",
       "      <td>149388.247500</td>\n",
       "      <td>0.000000</td>\n",
       "    </tr>\n",
       "    <tr>\n",
       "      <th>max</th>\n",
       "      <td>10000.00000</td>\n",
       "      <td>1.581569e+07</td>\n",
       "      <td>850.000000</td>\n",
       "      <td>92.000000</td>\n",
       "      <td>10.000000</td>\n",
       "      <td>250898.090000</td>\n",
       "      <td>4.000000</td>\n",
       "      <td>1.00000</td>\n",
       "      <td>1.000000</td>\n",
       "      <td>199992.480000</td>\n",
       "      <td>1.000000</td>\n",
       "    </tr>\n",
       "  </tbody>\n",
       "</table>\n",
       "</div>"
      ],
      "text/plain": [
       "         RowNumber    CustomerId   CreditScore           Age       Tenure  \\\n",
       "count  10000.00000  1.000000e+04  10000.000000  10000.000000  9091.000000   \n",
       "mean    5000.50000  1.569094e+07    650.528800     38.921800     4.997690   \n",
       "std     2886.89568  7.193619e+04     96.653299     10.487806     2.894723   \n",
       "min        1.00000  1.556570e+07    350.000000     18.000000     0.000000   \n",
       "25%     2500.75000  1.562853e+07    584.000000     32.000000     2.000000   \n",
       "50%     5000.50000  1.569074e+07    652.000000     37.000000     5.000000   \n",
       "75%     7500.25000  1.575323e+07    718.000000     44.000000     7.000000   \n",
       "max    10000.00000  1.581569e+07    850.000000     92.000000    10.000000   \n",
       "\n",
       "             Balance  NumOfProducts    HasCrCard  IsActiveMember  \\\n",
       "count   10000.000000   10000.000000  10000.00000    10000.000000   \n",
       "mean    76485.889288       1.530200      0.70550        0.515100   \n",
       "std     62397.405202       0.581654      0.45584        0.499797   \n",
       "min         0.000000       1.000000      0.00000        0.000000   \n",
       "25%         0.000000       1.000000      0.00000        0.000000   \n",
       "50%     97198.540000       1.000000      1.00000        1.000000   \n",
       "75%    127644.240000       2.000000      1.00000        1.000000   \n",
       "max    250898.090000       4.000000      1.00000        1.000000   \n",
       "\n",
       "       EstimatedSalary        Exited  \n",
       "count     10000.000000  10000.000000  \n",
       "mean     100090.239881      0.203700  \n",
       "std       57510.492818      0.402769  \n",
       "min          11.580000      0.000000  \n",
       "25%       51002.110000      0.000000  \n",
       "50%      100193.915000      0.000000  \n",
       "75%      149388.247500      0.000000  \n",
       "max      199992.480000      1.000000  "
      ]
     },
     "execution_count": 10,
     "metadata": {},
     "output_type": "execute_result"
    }
   ],
   "source": [
    "df.describe()"
   ]
  },
  {
   "cell_type": "markdown",
   "metadata": {},
   "source": [
    "- Мы не имеем подробной информации о том, как именно рассчитывается `CreditScore`, и о размерности `Tenure`. Признак `HasCrCard` имеет тип данных `bool`, а также `IsActiveMember`. `EstimatedSalary` не имеет описания методики расчета. Целевой признак `Exited` также представлен в формате `bool`.\n",
    "\n",
    "- Кроме того, нам не известен период, за который были получены данные. Возможно, мы можем разделить пользователей на категории на основе баланса с целью оценки потенциальной способности вернуть кредит.\n",
    "\n",
    "Исходя из этой информации, при анализе и построении модели прогнозирования ухода клиентов, мы должны учитывать, что не все параметры и методики расчета известны. Также стоит рассмотреть возможность использования признака баланса для создания категорий клиентов."
   ]
  },
  {
   "cell_type": "markdown",
   "metadata": {},
   "source": [
    "Сделам визуализацию данных для двух групп пользователей по целевому признаку"
   ]
  },
  {
   "cell_type": "code",
   "execution_count": 11,
   "metadata": {},
   "outputs": [
    {
     "data": {
      "image/png": "[encoded data removed]",
      "text/plain": [
       "<Figure size 432x288 with 1 Axes>"
      ]
     },
     "metadata": {
      "needs_background": "light"
     },
     "output_type": "display_data"
    }
   ],
   "source": [
    "((df['Exited'].value_counts(normalize=True))*100).plot(kind='bar').set_title(\n",
    "    'Доли пользователей 0- еще в банке, 1 - уже нет, в %')\n",
    "plt.show()"
   ]
  },
  {
   "cell_type": "markdown",
   "metadata": {},
   "source": [
    "Посчитаем, сколько пользователей ушло из банка"
   ]
  },
  {
   "cell_type": "code",
   "execution_count": 12,
   "metadata": {},
   "outputs": [
    {
     "data": {
      "text/html": [
       "<div>\n",
       "<style scoped>\n",
       "    .dataframe tbody tr th:only-of-type {\n",
       "        vertical-align: middle;\n",
       "    }\n",
       "\n",
       "    .dataframe tbody tr th {\n",
       "        vertical-align: top;\n",
       "    }\n",
       "\n",
       "    .dataframe thead th {\n",
       "        text-align: right;\n",
       "    }\n",
       "</style>\n",
       "<table border=\"1\" class=\"dataframe\">\n",
       "  <thead>\n",
       "    <tr style=\"text-align: right;\">\n",
       "      <th></th>\n",
       "      <th>exit 1/0</th>\n",
       "      <th>quantity</th>\n",
       "    </tr>\n",
       "  </thead>\n",
       "  <tbody>\n",
       "    <tr>\n",
       "      <th>0</th>\n",
       "      <td>0</td>\n",
       "      <td>7963</td>\n",
       "    </tr>\n",
       "    <tr>\n",
       "      <th>1</th>\n",
       "      <td>1</td>\n",
       "      <td>2037</td>\n",
       "    </tr>\n",
       "  </tbody>\n",
       "</table>\n",
       "</div>"
      ],
      "text/plain": [
       "   exit 1/0  quantity\n",
       "0         0      7963\n",
       "1         1      2037"
      ]
     },
     "metadata": {},
     "output_type": "display_data"
    }
   ],
   "source": [
    "user_status=pd.DataFrame(df['Exited'].value_counts())\n",
    "user_status=user_status.reset_index()\n",
    "user_status.columns=['exit 1/0','quantity']\n",
    "display(user_status)"
   ]
  },
  {
   "cell_type": "markdown",
   "metadata": {},
   "source": [
    "Из этой таблицы видно, что большинство клиентов (7963) остались в банке (значение 0 в столбце Exited), в то время как 2037 клиентов ушли (значение 1 в столбце Exited).\n",
    "\n",
    "На данном этапе предварительного анализа данных можно сделать вывод, что данные годятся для обработки и построения модели. Выборка состоит в основном из клиентов, которые остались в банке (7963), по сравнению с 2037 подтвержденными случаями ухода."
   ]
  },
  {
   "cell_type": "code",
   "execution_count": 13,
   "metadata": {},
   "outputs": [],
   "source": [
    "df_exit=df[df['Exited']>0]"
   ]
  },
  {
   "cell_type": "code",
   "execution_count": 14,
   "metadata": {},
   "outputs": [],
   "source": [
    "df_stay=df[df['Exited']==0]"
   ]
  },
  {
   "cell_type": "code",
   "execution_count": 15,
   "metadata": {},
   "outputs": [],
   "source": [
    "#Функция визуализации данных\n",
    "def visual_part2(df_exit,df_stay):\n",
    "    print('CreditScore distribution')\n",
    "    a=plt.hist([df_exit['CreditScore'], df_stay['CreditScore']],bins = 30,\n",
    "             color =('pink','blue'),label=(\"exit CreditScore\", \"stay CreditScore\"))\n",
    "    plt.xlabel(\"CreditScore\")\n",
    "    plt.ylabel(\"Количество пользователей\")\n",
    "    \n",
    "    plt.legend(loc='best')\n",
    "    plt.show()\n",
    "    \n",
    "    print('Age distribution')\n",
    "    plt.hist([df_exit['Age'], df_stay['Age']],bins = 30,color =('pink','blue'),label=(\"exit Age\", \"stay Age\"))\n",
    "    plt.xlabel(\"Age\")\n",
    "    plt.ylabel(\"Количество пользователей\")\n",
    "    plt.legend(loc='best')\n",
    "    plt.show()\n",
    "    \n",
    "    print('Tenure distribution')\n",
    "    plt.hist([df_exit['Tenure'], df_stay['Tenure']],bins = 30,color =('pink','blue'),\n",
    "             label=(\"exit Tenure\", \"stay Tenure\"))\n",
    "    plt.xlabel(\"Tenure\")\n",
    "    plt.ylabel(\"Количество пользователей\")\n",
    "    plt.legend(loc='best')\n",
    "    plt.show()\n",
    "    \n",
    "    print('Balance distribution')\n",
    "    plt.hist([df_exit['Balance'], df_stay['Balance']],bins = 30,color =('pink','blue'),\n",
    "             label=(\"exit Balance\", \"stay Balance\"))\n",
    "    plt.xlabel(\"Balance\")\n",
    "    plt.ylabel(\"Количество пользователей\")\n",
    "    plt.legend(loc='best')\n",
    "    plt.show()\n",
    "    \n",
    "    print('NumOfProducts distribution')\n",
    "    plt.hist([df_exit['NumOfProducts'], df_stay['NumOfProducts']],bins = 30,color =('pink','blue'),\n",
    "             label=(\"exit NumOfProducts\", \"stay NumOfProducts\"))\n",
    "    plt.xlabel(\"NumOfProducts\")\n",
    "    plt.ylabel(\"Количество пользователей\")\n",
    "    plt.legend(loc='best')\n",
    "    plt.show()\n",
    "    \n",
    "    \n",
    "    print('HasCrCard distribution')\n",
    "    plt.hist([df_exit['HasCrCard'], df_stay['HasCrCard']],bins = 30,color =('pink','blue'),\n",
    "             label=(\"exit HasCrCard\", \"stay HasCrCard\"))\n",
    "    plt.xlabel(\"HasCrCard\")\n",
    "    plt.ylabel(\"Количество пользователей\")\n",
    "    plt.legend(loc='best')\n",
    "    plt.show()\n",
    "    \n",
    "    print('IsActiveMember distribution')\n",
    "    plt.hist([df_exit['IsActiveMember'], df_stay['IsActiveMember']],bins = 30,color =('pink','blue'),\n",
    "             label=(\"exit IsActiveMember\", \"stay IsActiveMember\"))\n",
    "    plt.xlabel(\"IsActiveMember\")\n",
    "    plt.ylabel(\"Количество пользователей\")\n",
    "    plt.legend(loc='best')\n",
    "    plt.show()\n",
    "    \n",
    "    print('EstimatedSalary distribution')\n",
    "    plt.hist([df_exit['EstimatedSalary'], df_stay['EstimatedSalary']],bins = 30,color =('pink','blue'),\n",
    "             label=(\"exit EstimatedSalary\", \"stay EstimatedSalary\"))\n",
    "    plt.xlabel(\"EstimatedSalary\")\n",
    "    plt.ylabel(\"Количество пользователей\")\n",
    "    plt.legend(loc='best')\n",
    "    plt.show()\n",
    "    \t\t\n",
    "    "
   ]
  },
  {
   "cell_type": "code",
   "execution_count": 16,
   "metadata": {
    "scrolled": false
   },
   "outputs": [
    {
     "name": "stdout",
     "output_type": "stream",
     "text": [
      "CreditScore distribution\n"
     ]
    },
    {
     "data": {
      "image/png": "[encoded data removed]",
      "text/plain": [
       "<Figure size 432x288 with 1 Axes>"
      ]
     },
     "metadata": {
      "needs_background": "light"
     },
     "output_type": "display_data"
    },
    {
     "name": "stdout",
     "output_type": "stream",
     "text": [
      "Age distribution\n"
     ]
    },
    {
     "data": {
      "image/png": "[encoded data removed]",
      "text/plain": [
       "<Figure size 432x288 with 1 Axes>"
      ]
     },
     "metadata": {
      "needs_background": "light"
     },
     "output_type": "display_data"
    },
    {
     "name": "stdout",
     "output_type": "stream",
     "text": [
      "Tenure distribution\n"
     ]
    },
    {
     "data": {
      "image/png": "[encoded data removed]",
      "text/plain": [
       "<Figure size 432x288 with 1 Axes>"
      ]
     },
     "metadata": {
      "needs_background": "light"
     },
     "output_type": "display_data"
    },
    {
     "name": "stdout",
     "output_type": "stream",
     "text": [
      "Balance distribution\n"
     ]
    },
    {
     "data": {
      "image/png": "[encoded data removed]",
      "text/plain": [
       "<Figure size 432x288 with 1 Axes>"
      ]
     },
     "metadata": {
      "needs_background": "light"
     },
     "output_type": "display_data"
    },
    {
     "name": "stdout",
     "output_type": "stream",
     "text": [
      "NumOfProducts distribution\n"
     ]
    },
    {
     "data": {
      "image/png": "[encoded data removed]",
      "text/plain": [
       "<Figure size 432x288 with 1 Axes>"
      ]
     },
     "metadata": {
      "needs_background": "light"
     },
     "output_type": "display_data"
    },
    {
     "name": "stdout",
     "output_type": "stream",
     "text": [
      "HasCrCard distribution\n"
     ]
    },
    {
     "data": {
      "image/png": "[encoded data removed]",
      "text/plain": [
       "<Figure size 432x288 with 1 Axes>"
      ]
     },
     "metadata": {
      "needs_background": "light"
     },
     "output_type": "display_data"
    },
    {
     "name": "stdout",
     "output_type": "stream",
     "text": [
      "IsActiveMember distribution\n"
     ]
    },
    {
     "data": {
      "image/png": "[encoded data removed]",
      "text/plain": [
       "<Figure size 432x288 with 1 Axes>"
      ]
     },
     "metadata": {
      "needs_background": "light"
     },
     "output_type": "display_data"
    },
    {
     "name": "stdout",
     "output_type": "stream",
     "text": [
      "EstimatedSalary distribution\n"
     ]
    },
    {
     "data": {
      "image/png": "[encoded data removed]",
      "text/plain": [
       "<Figure size 432x288 with 1 Axes>"
      ]
     },
     "metadata": {
      "needs_background": "light"
     },
     "output_type": "display_data"
    }
   ],
   "source": [
    "visual_part2(df_exit,df_stay)"
   ]
  },
  {
   "cell_type": "markdown",
   "metadata": {},
   "source": [
    "\n",
    "группы пользователей имеют схожие распределения по категориям, что подтверждает пригодность данных для построения моделей. Однако, не наблюдается явной внутренней схожести между различными критериями."
   ]
  },
  {
   "cell_type": "code",
   "execution_count": 17,
   "metadata": {},
   "outputs": [
    {
     "name": "stdout",
     "output_type": "stream",
     "text": [
      "Exit user describe\n"
     ]
    },
    {
     "data": {
      "text/html": [
       "<div>\n",
       "<style scoped>\n",
       "    .dataframe tbody tr th:only-of-type {\n",
       "        vertical-align: middle;\n",
       "    }\n",
       "\n",
       "    .dataframe tbody tr th {\n",
       "        vertical-align: top;\n",
       "    }\n",
       "\n",
       "    .dataframe thead th {\n",
       "        text-align: right;\n",
       "    }\n",
       "</style>\n",
       "<table border=\"1\" class=\"dataframe\">\n",
       "  <thead>\n",
       "    <tr style=\"text-align: right;\">\n",
       "      <th></th>\n",
       "      <th>CreditScore</th>\n",
       "      <th>Age</th>\n",
       "      <th>Tenure</th>\n",
       "      <th>Balance</th>\n",
       "      <th>NumOfProducts</th>\n",
       "      <th>HasCrCard</th>\n",
       "      <th>IsActiveMember</th>\n",
       "      <th>EstimatedSalary</th>\n",
       "    </tr>\n",
       "  </thead>\n",
       "  <tbody>\n",
       "    <tr>\n",
       "      <th>count</th>\n",
       "      <td>2037.000000</td>\n",
       "      <td>2037.000000</td>\n",
       "      <td>1854.000000</td>\n",
       "      <td>2037.000000</td>\n",
       "      <td>2037.000000</td>\n",
       "      <td>2037.000000</td>\n",
       "      <td>2037.000000</td>\n",
       "      <td>2037.000000</td>\n",
       "    </tr>\n",
       "    <tr>\n",
       "      <th>mean</th>\n",
       "      <td>645.351497</td>\n",
       "      <td>44.837997</td>\n",
       "      <td>4.901834</td>\n",
       "      <td>91108.539337</td>\n",
       "      <td>1.475209</td>\n",
       "      <td>0.699067</td>\n",
       "      <td>0.360825</td>\n",
       "      <td>101465.677531</td>\n",
       "    </tr>\n",
       "    <tr>\n",
       "      <th>std</th>\n",
       "      <td>100.321503</td>\n",
       "      <td>9.761562</td>\n",
       "      <td>2.944727</td>\n",
       "      <td>58360.794816</td>\n",
       "      <td>0.801521</td>\n",
       "      <td>0.458776</td>\n",
       "      <td>0.480358</td>\n",
       "      <td>57912.418071</td>\n",
       "    </tr>\n",
       "    <tr>\n",
       "      <th>min</th>\n",
       "      <td>350.000000</td>\n",
       "      <td>18.000000</td>\n",
       "      <td>0.000000</td>\n",
       "      <td>0.000000</td>\n",
       "      <td>1.000000</td>\n",
       "      <td>0.000000</td>\n",
       "      <td>0.000000</td>\n",
       "      <td>11.580000</td>\n",
       "    </tr>\n",
       "    <tr>\n",
       "      <th>25%</th>\n",
       "      <td>578.000000</td>\n",
       "      <td>38.000000</td>\n",
       "      <td>2.000000</td>\n",
       "      <td>38340.020000</td>\n",
       "      <td>1.000000</td>\n",
       "      <td>0.000000</td>\n",
       "      <td>0.000000</td>\n",
       "      <td>51907.720000</td>\n",
       "    </tr>\n",
       "    <tr>\n",
       "      <th>50%</th>\n",
       "      <td>646.000000</td>\n",
       "      <td>45.000000</td>\n",
       "      <td>5.000000</td>\n",
       "      <td>109349.290000</td>\n",
       "      <td>1.000000</td>\n",
       "      <td>1.000000</td>\n",
       "      <td>0.000000</td>\n",
       "      <td>102460.840000</td>\n",
       "    </tr>\n",
       "    <tr>\n",
       "      <th>75%</th>\n",
       "      <td>716.000000</td>\n",
       "      <td>51.000000</td>\n",
       "      <td>7.000000</td>\n",
       "      <td>131433.330000</td>\n",
       "      <td>2.000000</td>\n",
       "      <td>1.000000</td>\n",
       "      <td>1.000000</td>\n",
       "      <td>152422.910000</td>\n",
       "    </tr>\n",
       "    <tr>\n",
       "      <th>max</th>\n",
       "      <td>850.000000</td>\n",
       "      <td>84.000000</td>\n",
       "      <td>10.000000</td>\n",
       "      <td>250898.090000</td>\n",
       "      <td>4.000000</td>\n",
       "      <td>1.000000</td>\n",
       "      <td>1.000000</td>\n",
       "      <td>199808.100000</td>\n",
       "    </tr>\n",
       "  </tbody>\n",
       "</table>\n",
       "</div>"
      ],
      "text/plain": [
       "       CreditScore          Age       Tenure        Balance  NumOfProducts  \\\n",
       "count  2037.000000  2037.000000  1854.000000    2037.000000    2037.000000   \n",
       "mean    645.351497    44.837997     4.901834   91108.539337       1.475209   \n",
       "std     100.321503     9.761562     2.944727   58360.794816       0.801521   \n",
       "min     350.000000    18.000000     0.000000       0.000000       1.000000   \n",
       "25%     578.000000    38.000000     2.000000   38340.020000       1.000000   \n",
       "50%     646.000000    45.000000     5.000000  109349.290000       1.000000   \n",
       "75%     716.000000    51.000000     7.000000  131433.330000       2.000000   \n",
       "max     850.000000    84.000000    10.000000  250898.090000       4.000000   \n",
       "\n",
       "         HasCrCard  IsActiveMember  EstimatedSalary  \n",
       "count  2037.000000     2037.000000      2037.000000  \n",
       "mean      0.699067        0.360825    101465.677531  \n",
       "std       0.458776        0.480358     57912.418071  \n",
       "min       0.000000        0.000000        11.580000  \n",
       "25%       0.000000        0.000000     51907.720000  \n",
       "50%       1.000000        0.000000    102460.840000  \n",
       "75%       1.000000        1.000000    152422.910000  \n",
       "max       1.000000        1.000000    199808.100000  "
      ]
     },
     "metadata": {},
     "output_type": "display_data"
    }
   ],
   "source": [
    "print('Exit user describe')\n",
    "display(df_exit.describe().drop(['RowNumber','CustomerId','Exited'],axis=1))"
   ]
  },
  {
   "cell_type": "code",
   "execution_count": 18,
   "metadata": {},
   "outputs": [
    {
     "name": "stdout",
     "output_type": "stream",
     "text": [
      "Stay user describe\n"
     ]
    },
    {
     "data": {
      "text/html": [
       "<div>\n",
       "<style scoped>\n",
       "    .dataframe tbody tr th:only-of-type {\n",
       "        vertical-align: middle;\n",
       "    }\n",
       "\n",
       "    .dataframe tbody tr th {\n",
       "        vertical-align: top;\n",
       "    }\n",
       "\n",
       "    .dataframe thead th {\n",
       "        text-align: right;\n",
       "    }\n",
       "</style>\n",
       "<table border=\"1\" class=\"dataframe\">\n",
       "  <thead>\n",
       "    <tr style=\"text-align: right;\">\n",
       "      <th></th>\n",
       "      <th>CreditScore</th>\n",
       "      <th>Age</th>\n",
       "      <th>Tenure</th>\n",
       "      <th>Balance</th>\n",
       "      <th>NumOfProducts</th>\n",
       "      <th>HasCrCard</th>\n",
       "      <th>IsActiveMember</th>\n",
       "      <th>EstimatedSalary</th>\n",
       "    </tr>\n",
       "  </thead>\n",
       "  <tbody>\n",
       "    <tr>\n",
       "      <th>count</th>\n",
       "      <td>7963.000000</td>\n",
       "      <td>7963.000000</td>\n",
       "      <td>7237.000000</td>\n",
       "      <td>7963.000000</td>\n",
       "      <td>7963.000000</td>\n",
       "      <td>7963.000000</td>\n",
       "      <td>7963.000000</td>\n",
       "      <td>7963.000000</td>\n",
       "    </tr>\n",
       "    <tr>\n",
       "      <th>mean</th>\n",
       "      <td>651.853196</td>\n",
       "      <td>37.408389</td>\n",
       "      <td>5.022247</td>\n",
       "      <td>72745.296779</td>\n",
       "      <td>1.544267</td>\n",
       "      <td>0.707146</td>\n",
       "      <td>0.554565</td>\n",
       "      <td>99738.391772</td>\n",
       "    </tr>\n",
       "    <tr>\n",
       "      <th>std</th>\n",
       "      <td>95.653837</td>\n",
       "      <td>10.125363</td>\n",
       "      <td>2.881467</td>\n",
       "      <td>62848.040701</td>\n",
       "      <td>0.509536</td>\n",
       "      <td>0.455101</td>\n",
       "      <td>0.497045</td>\n",
       "      <td>57405.586966</td>\n",
       "    </tr>\n",
       "    <tr>\n",
       "      <th>min</th>\n",
       "      <td>405.000000</td>\n",
       "      <td>18.000000</td>\n",
       "      <td>0.000000</td>\n",
       "      <td>0.000000</td>\n",
       "      <td>1.000000</td>\n",
       "      <td>0.000000</td>\n",
       "      <td>0.000000</td>\n",
       "      <td>90.070000</td>\n",
       "    </tr>\n",
       "    <tr>\n",
       "      <th>25%</th>\n",
       "      <td>585.000000</td>\n",
       "      <td>31.000000</td>\n",
       "      <td>3.000000</td>\n",
       "      <td>0.000000</td>\n",
       "      <td>1.000000</td>\n",
       "      <td>0.000000</td>\n",
       "      <td>0.000000</td>\n",
       "      <td>50783.490000</td>\n",
       "    </tr>\n",
       "    <tr>\n",
       "      <th>50%</th>\n",
       "      <td>653.000000</td>\n",
       "      <td>36.000000</td>\n",
       "      <td>5.000000</td>\n",
       "      <td>92072.680000</td>\n",
       "      <td>2.000000</td>\n",
       "      <td>1.000000</td>\n",
       "      <td>1.000000</td>\n",
       "      <td>99645.040000</td>\n",
       "    </tr>\n",
       "    <tr>\n",
       "      <th>75%</th>\n",
       "      <td>718.000000</td>\n",
       "      <td>41.000000</td>\n",
       "      <td>7.000000</td>\n",
       "      <td>126410.280000</td>\n",
       "      <td>2.000000</td>\n",
       "      <td>1.000000</td>\n",
       "      <td>1.000000</td>\n",
       "      <td>148609.955000</td>\n",
       "    </tr>\n",
       "    <tr>\n",
       "      <th>max</th>\n",
       "      <td>850.000000</td>\n",
       "      <td>92.000000</td>\n",
       "      <td>10.000000</td>\n",
       "      <td>221532.800000</td>\n",
       "      <td>3.000000</td>\n",
       "      <td>1.000000</td>\n",
       "      <td>1.000000</td>\n",
       "      <td>199992.480000</td>\n",
       "    </tr>\n",
       "  </tbody>\n",
       "</table>\n",
       "</div>"
      ],
      "text/plain": [
       "       CreditScore          Age       Tenure        Balance  NumOfProducts  \\\n",
       "count  7963.000000  7963.000000  7237.000000    7963.000000    7963.000000   \n",
       "mean    651.853196    37.408389     5.022247   72745.296779       1.544267   \n",
       "std      95.653837    10.125363     2.881467   62848.040701       0.509536   \n",
       "min     405.000000    18.000000     0.000000       0.000000       1.000000   \n",
       "25%     585.000000    31.000000     3.000000       0.000000       1.000000   \n",
       "50%     653.000000    36.000000     5.000000   92072.680000       2.000000   \n",
       "75%     718.000000    41.000000     7.000000  126410.280000       2.000000   \n",
       "max     850.000000    92.000000    10.000000  221532.800000       3.000000   \n",
       "\n",
       "         HasCrCard  IsActiveMember  EstimatedSalary  \n",
       "count  7963.000000     7963.000000      7963.000000  \n",
       "mean      0.707146        0.554565     99738.391772  \n",
       "std       0.455101        0.497045     57405.586966  \n",
       "min       0.000000        0.000000        90.070000  \n",
       "25%       0.000000        0.000000     50783.490000  \n",
       "50%       1.000000        1.000000     99645.040000  \n",
       "75%       1.000000        1.000000    148609.955000  \n",
       "max       1.000000        1.000000    199992.480000  "
      ]
     },
     "metadata": {},
     "output_type": "display_data"
    },
    {
     "data": {
      "text/plain": [
       "Index(['RowNumber', 'CustomerId', 'Surname', 'CreditScore', 'Geography',\n",
       "       'Gender', 'Age', 'Tenure', 'Balance', 'NumOfProducts', 'HasCrCard',\n",
       "       'IsActiveMember', 'EstimatedSalary', 'Exited'],\n",
       "      dtype='object')"
      ]
     },
     "metadata": {},
     "output_type": "display_data"
    }
   ],
   "source": [
    "print('Stay user describe')\n",
    "display(df_stay.describe().drop(['RowNumber','CustomerId','Exited'],axis=1))\n",
    "display(df_stay.columns)"
   ]
  },
  {
   "cell_type": "code",
   "execution_count": 19,
   "metadata": {},
   "outputs": [],
   "source": [
    "def iqr(dataframe):\n",
    "    for value in dataframe.columns:\n",
    "        q1,q3=np.percentile(dataframe,[25,75])\n",
    "        iqr=q3-q1\n",
    "        low_limit=q1-1.5*iqr\n",
    "        high_limit=q3+1.5*iqr\n",
    "    \n",
    "    return pd.DataFrame(['q1','q3','iqr','low_limit','high_limit'],[q1,q3,iqr,low_limit,high_limit],\n",
    "                           columns=value)\n",
    "    "
   ]
  },
  {
   "cell_type": "code",
   "execution_count": 20,
   "metadata": {},
   "outputs": [],
   "source": [
    "df_stay_numer=df_stay[['CreditScore','Age', 'Tenure', 'Balance', 'NumOfProducts','EstimatedSalary']]"
   ]
  },
  {
   "cell_type": "code",
   "execution_count": 21,
   "metadata": {},
   "outputs": [],
   "source": [
    "df_exit_numer=df_exit[['CreditScore','Age', 'Tenure', 'Balance', 'NumOfProducts','EstimatedSalary']]"
   ]
  },
  {
   "cell_type": "code",
   "execution_count": 22,
   "metadata": {},
   "outputs": [],
   "source": [
    "# Функция вывода пределов для сброса по методу IQR принимает на вход массив.describe() из числовых значений\n",
    "# Рекомендация  использовать значения типа float | int \n",
    "# индекс- колонка с названием исходного столбца для нашего случая \n",
    "#'index','CreditScore','Age', 'Tenure', 'Balance', 'NumOfProducts','EstimatedSalary'\n",
    "def iqr(stat_df_describe):\n",
    "    stat_df_describe=pd.DataFrame(stat_df_describe.describe())\n",
    "    stat_df_describe=stat_df_describe.reset_index(drop=True)\n",
    "    top_limit=[]\n",
    "    bot_limit=[]\n",
    "    columns_lst=[]\n",
    "    for value in stat_df_describe.columns:\n",
    "        limit_up=stat_df_describe[value][6]+1.5*(stat_df_describe[value][6]-stat_df_describe[value][4])\n",
    "        limit_low=stat_df_describe[value][4]-1.5*(stat_df_describe[value][6]-stat_df_describe[value][4])\n",
    "        top_limit.append(limit_up)\n",
    "        if limit_low<0:\n",
    "            bot_limit.append(0)\n",
    "        else:\n",
    "            bot_limit.append(limit_low)\n",
    "        columns_lst.append(value)\n",
    "        dictionary={'Columns':columns_lst, 'Top_limit':top_limit,'Bot_limit':bot_limit}\n",
    "        a=pd.DataFrame(dictionary)\n",
    "                \n",
    "        \n",
    "    return a"
   ]
  },
  {
   "cell_type": "code",
   "execution_count": 23,
   "metadata": {},
   "outputs": [],
   "source": [
    "df_stay_numer_lim=iqr(df_stay_numer)\n",
    "df_exit_numer_lim=iqr(df_exit_numer)"
   ]
  },
  {
   "cell_type": "code",
   "execution_count": 24,
   "metadata": {},
   "outputs": [
    {
     "data": {
      "text/html": [
       "<div>\n",
       "<style scoped>\n",
       "    .dataframe tbody tr th:only-of-type {\n",
       "        vertical-align: middle;\n",
       "    }\n",
       "\n",
       "    .dataframe tbody tr th {\n",
       "        vertical-align: top;\n",
       "    }\n",
       "\n",
       "    .dataframe thead th {\n",
       "        text-align: right;\n",
       "    }\n",
       "</style>\n",
       "<table border=\"1\" class=\"dataframe\">\n",
       "  <thead>\n",
       "    <tr style=\"text-align: right;\">\n",
       "      <th></th>\n",
       "      <th>Columns</th>\n",
       "      <th>Top_limit</th>\n",
       "      <th>Bot_limit</th>\n",
       "    </tr>\n",
       "  </thead>\n",
       "  <tbody>\n",
       "    <tr>\n",
       "      <th>0</th>\n",
       "      <td>CreditScore</td>\n",
       "      <td>917.5000</td>\n",
       "      <td>385.5</td>\n",
       "    </tr>\n",
       "    <tr>\n",
       "      <th>1</th>\n",
       "      <td>Age</td>\n",
       "      <td>56.0000</td>\n",
       "      <td>16.0</td>\n",
       "    </tr>\n",
       "    <tr>\n",
       "      <th>2</th>\n",
       "      <td>Tenure</td>\n",
       "      <td>13.0000</td>\n",
       "      <td>0.0</td>\n",
       "    </tr>\n",
       "    <tr>\n",
       "      <th>3</th>\n",
       "      <td>Balance</td>\n",
       "      <td>316025.7000</td>\n",
       "      <td>0.0</td>\n",
       "    </tr>\n",
       "    <tr>\n",
       "      <th>4</th>\n",
       "      <td>NumOfProducts</td>\n",
       "      <td>3.5000</td>\n",
       "      <td>0.0</td>\n",
       "    </tr>\n",
       "    <tr>\n",
       "      <th>5</th>\n",
       "      <td>EstimatedSalary</td>\n",
       "      <td>295349.6525</td>\n",
       "      <td>0.0</td>\n",
       "    </tr>\n",
       "  </tbody>\n",
       "</table>\n",
       "</div>"
      ],
      "text/plain": [
       "           Columns    Top_limit  Bot_limit\n",
       "0      CreditScore     917.5000      385.5\n",
       "1              Age      56.0000       16.0\n",
       "2           Tenure      13.0000        0.0\n",
       "3          Balance  316025.7000        0.0\n",
       "4    NumOfProducts       3.5000        0.0\n",
       "5  EstimatedSalary  295349.6525        0.0"
      ]
     },
     "metadata": {},
     "output_type": "display_data"
    },
    {
     "data": {
      "text/html": [
       "<div>\n",
       "<style scoped>\n",
       "    .dataframe tbody tr th:only-of-type {\n",
       "        vertical-align: middle;\n",
       "    }\n",
       "\n",
       "    .dataframe tbody tr th {\n",
       "        vertical-align: top;\n",
       "    }\n",
       "\n",
       "    .dataframe thead th {\n",
       "        text-align: right;\n",
       "    }\n",
       "</style>\n",
       "<table border=\"1\" class=\"dataframe\">\n",
       "  <thead>\n",
       "    <tr style=\"text-align: right;\">\n",
       "      <th></th>\n",
       "      <th>Columns</th>\n",
       "      <th>Top_limit</th>\n",
       "      <th>Bot_limit</th>\n",
       "    </tr>\n",
       "  </thead>\n",
       "  <tbody>\n",
       "    <tr>\n",
       "      <th>0</th>\n",
       "      <td>CreditScore</td>\n",
       "      <td>923.000</td>\n",
       "      <td>371.0</td>\n",
       "    </tr>\n",
       "    <tr>\n",
       "      <th>1</th>\n",
       "      <td>Age</td>\n",
       "      <td>70.500</td>\n",
       "      <td>18.5</td>\n",
       "    </tr>\n",
       "    <tr>\n",
       "      <th>2</th>\n",
       "      <td>Tenure</td>\n",
       "      <td>14.500</td>\n",
       "      <td>0.0</td>\n",
       "    </tr>\n",
       "    <tr>\n",
       "      <th>3</th>\n",
       "      <td>Balance</td>\n",
       "      <td>271073.295</td>\n",
       "      <td>0.0</td>\n",
       "    </tr>\n",
       "    <tr>\n",
       "      <th>4</th>\n",
       "      <td>NumOfProducts</td>\n",
       "      <td>3.500</td>\n",
       "      <td>0.0</td>\n",
       "    </tr>\n",
       "    <tr>\n",
       "      <th>5</th>\n",
       "      <td>EstimatedSalary</td>\n",
       "      <td>303195.695</td>\n",
       "      <td>0.0</td>\n",
       "    </tr>\n",
       "  </tbody>\n",
       "</table>\n",
       "</div>"
      ],
      "text/plain": [
       "           Columns   Top_limit  Bot_limit\n",
       "0      CreditScore     923.000      371.0\n",
       "1              Age      70.500       18.5\n",
       "2           Tenure      14.500        0.0\n",
       "3          Balance  271073.295        0.0\n",
       "4    NumOfProducts       3.500        0.0\n",
       "5  EstimatedSalary  303195.695        0.0"
      ]
     },
     "metadata": {},
     "output_type": "display_data"
    }
   ],
   "source": [
    "display(df_stay_numer_lim)\n",
    "display(df_exit_numer_lim)\n"
   ]
  },
  {
   "cell_type": "code",
   "execution_count": 25,
   "metadata": {},
   "outputs": [
    {
     "data": {
      "text/plain": [
       "Index(['RowNumber', 'CustomerId', 'Surname', 'CreditScore', 'Geography',\n",
       "       'Gender', 'Age', 'Tenure', 'Balance', 'NumOfProducts', 'HasCrCard',\n",
       "       'IsActiveMember', 'EstimatedSalary', 'Exited'],\n",
       "      dtype='object')"
      ]
     },
     "metadata": {},
     "output_type": "display_data"
    }
   ],
   "source": [
    "display(df_exit.columns)"
   ]
  },
  {
   "cell_type": "code",
   "execution_count": 26,
   "metadata": {},
   "outputs": [],
   "source": [
    "intrest_df_exit=df_exit[(df_exit['CreditScore']<df_exit_numer_lim['Top_limit'][0])&\n",
    "                        (df_exit['CreditScore']>=df_exit_numer_lim['Bot_limit'][0])&\n",
    "                        (df_exit['Age']<df_exit_numer_lim['Top_limit'][1])&\n",
    "                        (df_exit['Age']>=df_exit_numer_lim['Bot_limit'][1])&\n",
    "                        (df_exit['Tenure']<df_exit_numer_lim['Top_limit'][2])&\n",
    "                        (df_exit['Tenure']>=df_exit_numer_lim['Bot_limit'][2])&\n",
    "                        (df_exit['Balance']<df_exit_numer_lim['Top_limit'][3])&\n",
    "                        (df_exit['Balance']>=df_exit_numer_lim['Bot_limit'][3])&\n",
    "                        (df_exit['NumOfProducts']<df_exit_numer_lim['Top_limit'][4])&\n",
    "                        (df_exit['NumOfProducts']>=df_exit_numer_lim['Bot_limit'][4])&\n",
    "                        (df_exit['EstimatedSalary']<df_exit_numer_lim['Top_limit'][5])&\n",
    "                        (df_exit['EstimatedSalary']>=df_exit_numer_lim['Bot_limit'][5])]\n",
    "                        "
   ]
  },
  {
   "cell_type": "code",
   "execution_count": 27,
   "metadata": {},
   "outputs": [],
   "source": [
    "intrest_df_stay=df_stay[(df_stay['CreditScore']<df_stay_numer_lim['Top_limit'][0])&\n",
    "                        (df_stay['CreditScore']>=df_stay_numer_lim['Bot_limit'][0])&\n",
    "                        (df_stay['Age']<df_stay_numer_lim['Top_limit'][1])&\n",
    "                        (df_stay['Age']>=df_stay_numer_lim['Bot_limit'][1])&\n",
    "                        (df_stay['Tenure']<df_stay_numer_lim['Top_limit'][2])&\n",
    "                        (df_stay['Tenure']>=df_stay_numer_lim['Bot_limit'][2])&\n",
    "                        (df_stay['Balance']<df_stay_numer_lim['Top_limit'][3])&\n",
    "                        (df_stay['Balance']>=df_stay_numer_lim['Bot_limit'][3])&\n",
    "                        (df_stay['NumOfProducts']<df_stay_numer_lim['Top_limit'][4])&\n",
    "                        (df_stay['NumOfProducts']>=df_stay_numer_lim['Bot_limit'][4])&\n",
    "                        (df_stay['EstimatedSalary']<df_stay_numer_lim['Top_limit'][5])&\n",
    "                        (df_stay['EstimatedSalary']>=df_stay_numer_lim['Bot_limit'][5])]\n"
   ]
  },
  {
   "cell_type": "code",
   "execution_count": 28,
   "metadata": {
    "scrolled": false
   },
   "outputs": [
    {
     "name": "stdout",
     "output_type": "stream",
     "text": [
      "CreditScore distribution\n"
     ]
    },
    {
     "data": {
      "image/png": "[encoded data removed]",
      "text/plain": [
       "<Figure size 432x288 with 1 Axes>"
      ]
     },
     "metadata": {
      "needs_background": "light"
     },
     "output_type": "display_data"
    },
    {
     "name": "stdout",
     "output_type": "stream",
     "text": [
      "Age distribution\n"
     ]
    },
    {
     "data": {
      "image/png": "[encoded data removed]",
      "text/plain": [
       "<Figure size 432x288 with 1 Axes>"
      ]
     },
     "metadata": {
      "needs_background": "light"
     },
     "output_type": "display_data"
    },
    {
     "name": "stdout",
     "output_type": "stream",
     "text": [
      "Tenure distribution\n"
     ]
    },
    {
     "data": {
      "image/png": "[encoded data removed]",
      "text/plain": [
       "<Figure size 432x288 with 1 Axes>"
      ]
     },
     "metadata": {
      "needs_background": "light"
     },
     "output_type": "display_data"
    },
    {
     "name": "stdout",
     "output_type": "stream",
     "text": [
      "Balance distribution\n"
     ]
    },
    {
     "data": {
      "image/png": "[encoded data removed]",
      "text/plain": [
       "<Figure size 432x288 with 1 Axes>"
      ]
     },
     "metadata": {
      "needs_background": "light"
     },
     "output_type": "display_data"
    },
    {
     "name": "stdout",
     "output_type": "stream",
     "text": [
      "NumOfProducts distribution\n"
     ]
    },
    {
     "data": {
      "image/png": "[encoded data removed]",
      "text/plain": [
       "<Figure size 432x288 with 1 Axes>"
      ]
     },
     "metadata": {
      "needs_background": "light"
     },
     "output_type": "display_data"
    },
    {
     "name": "stdout",
     "output_type": "stream",
     "text": [
      "HasCrCard distribution\n"
     ]
    },
    {
     "data": {
      "image/png": "[encoded data removed]",
      "text/plain": [
       "<Figure size 432x288 with 1 Axes>"
      ]
     },
     "metadata": {
      "needs_background": "light"
     },
     "output_type": "display_data"
    },
    {
     "name": "stdout",
     "output_type": "stream",
     "text": [
      "IsActiveMember distribution\n"
     ]
    },
    {
     "data": {
      "image/png": "[encoded data removed]",
      "text/plain": [
       "<Figure size 432x288 with 1 Axes>"
      ]
     },
     "metadata": {
      "needs_background": "light"
     },
     "output_type": "display_data"
    },
    {
     "name": "stdout",
     "output_type": "stream",
     "text": [
      "EstimatedSalary distribution\n"
     ]
    },
    {
     "data": {
      "image/png": "[encoded data removed]",
      "text/plain": [
       "<Figure size 432x288 with 1 Axes>"
      ]
     },
     "metadata": {
      "needs_background": "light"
     },
     "output_type": "display_data"
    }
   ],
   "source": [
    "visual_part2(intrest_df_exit,intrest_df_stay)"
   ]
  },
  {
   "cell_type": "code",
   "execution_count": 29,
   "metadata": {},
   "outputs": [
    {
     "data": {
      "text/plain": [
       "(1775, 14)"
      ]
     },
     "execution_count": 29,
     "metadata": {},
     "output_type": "execute_result"
    }
   ],
   "source": [
    "intrest_df_exit.shape"
   ]
  },
  {
   "cell_type": "code",
   "execution_count": 30,
   "metadata": {},
   "outputs": [
    {
     "data": {
      "text/plain": [
       "(6766, 14)"
      ]
     },
     "execution_count": 30,
     "metadata": {},
     "output_type": "execute_result"
    }
   ],
   "source": [
    "intrest_df_stay.shape"
   ]
  },
  {
   "cell_type": "code",
   "execution_count": 31,
   "metadata": {},
   "outputs": [],
   "source": [
    "standart_data=pd.concat([intrest_df_exit,intrest_df_stay])"
   ]
  },
  {
   "cell_type": "code",
   "execution_count": 32,
   "metadata": {},
   "outputs": [
    {
     "data": {
      "text/plain": [
       "(8541, 14)"
      ]
     },
     "metadata": {},
     "output_type": "display_data"
    }
   ],
   "source": [
    "display(standart_data.shape)"
   ]
  },
  {
   "cell_type": "markdown",
   "metadata": {},
   "source": [
    "Так-с, данных стало чуть меньше, чем было "
   ]
  },
  {
   "cell_type": "code",
   "execution_count": 33,
   "metadata": {},
   "outputs": [
    {
     "name": "stdout",
     "output_type": "stream",
     "text": [
      "Остаток данных отосительно исходного массива после сброса по IQR 85.41 в %\n"
     ]
    }
   ],
   "source": [
    "print('Остаток данных отосительно исходного массива после сброса по IQR',\n",
    "      (standart_data.shape[0]/df.shape[0])*100,'в %')"
   ]
  },
  {
   "cell_type": "markdown",
   "metadata": {},
   "source": [
    "Рассмотрим корелляцию между features"
   ]
  },
  {
   "cell_type": "code",
   "execution_count": 34,
   "metadata": {},
   "outputs": [
    {
     "data": {
      "text/plain": [
       "Index(['RowNumber', 'CustomerId', 'Surname', 'CreditScore', 'Geography',\n",
       "       'Gender', 'Age', 'Tenure', 'Balance', 'NumOfProducts', 'HasCrCard',\n",
       "       'IsActiveMember', 'EstimatedSalary', 'Exited'],\n",
       "      dtype='object')"
      ]
     },
     "execution_count": 34,
     "metadata": {},
     "output_type": "execute_result"
    }
   ],
   "source": [
    "standart_data.columns"
   ]
  },
  {
   "cell_type": "code",
   "execution_count": 35,
   "metadata": {},
   "outputs": [
    {
     "data": {
      "text/plain": [
       "RowNumber            int64\n",
       "CustomerId           int64\n",
       "Surname             object\n",
       "CreditScore          int64\n",
       "Geography           object\n",
       "Gender              object\n",
       "Age                  int64\n",
       "Tenure             float64\n",
       "Balance            float64\n",
       "NumOfProducts        int64\n",
       "HasCrCard            int64\n",
       "IsActiveMember       int64\n",
       "EstimatedSalary    float64\n",
       "Exited               int64\n",
       "dtype: object"
      ]
     },
     "execution_count": 35,
     "metadata": {},
     "output_type": "execute_result"
    }
   ],
   "source": [
    "standart_data.dtypes"
   ]
  },
  {
   "cell_type": "code",
   "execution_count": 36,
   "metadata": {},
   "outputs": [],
   "source": [
    "standart_data=standart_data.drop(['RowNumber','CustomerId','Surname'],axis=1)"
   ]
  },
  {
   "cell_type": "code",
   "execution_count": 37,
   "metadata": {},
   "outputs": [
    {
     "data": {
      "text/html": [
       "<div>\n",
       "<style scoped>\n",
       "    .dataframe tbody tr th:only-of-type {\n",
       "        vertical-align: middle;\n",
       "    }\n",
       "\n",
       "    .dataframe tbody tr th {\n",
       "        vertical-align: top;\n",
       "    }\n",
       "\n",
       "    .dataframe thead th {\n",
       "        text-align: right;\n",
       "    }\n",
       "</style>\n",
       "<table border=\"1\" class=\"dataframe\">\n",
       "  <thead>\n",
       "    <tr style=\"text-align: right;\">\n",
       "      <th></th>\n",
       "      <th>CreditScore</th>\n",
       "      <th>Geography</th>\n",
       "      <th>Gender</th>\n",
       "      <th>Age</th>\n",
       "      <th>Tenure</th>\n",
       "      <th>Balance</th>\n",
       "      <th>NumOfProducts</th>\n",
       "      <th>HasCrCard</th>\n",
       "      <th>IsActiveMember</th>\n",
       "      <th>EstimatedSalary</th>\n",
       "      <th>Exited</th>\n",
       "    </tr>\n",
       "  </thead>\n",
       "  <tbody>\n",
       "    <tr>\n",
       "      <th>0</th>\n",
       "      <td>619</td>\n",
       "      <td>France</td>\n",
       "      <td>Female</td>\n",
       "      <td>42</td>\n",
       "      <td>2.0</td>\n",
       "      <td>0.00</td>\n",
       "      <td>1</td>\n",
       "      <td>1</td>\n",
       "      <td>1</td>\n",
       "      <td>101348.88</td>\n",
       "      <td>1</td>\n",
       "    </tr>\n",
       "    <tr>\n",
       "      <th>2</th>\n",
       "      <td>502</td>\n",
       "      <td>France</td>\n",
       "      <td>Female</td>\n",
       "      <td>42</td>\n",
       "      <td>8.0</td>\n",
       "      <td>159660.80</td>\n",
       "      <td>3</td>\n",
       "      <td>1</td>\n",
       "      <td>0</td>\n",
       "      <td>113931.57</td>\n",
       "      <td>1</td>\n",
       "    </tr>\n",
       "    <tr>\n",
       "      <th>5</th>\n",
       "      <td>645</td>\n",
       "      <td>Spain</td>\n",
       "      <td>Male</td>\n",
       "      <td>44</td>\n",
       "      <td>8.0</td>\n",
       "      <td>113755.78</td>\n",
       "      <td>2</td>\n",
       "      <td>1</td>\n",
       "      <td>0</td>\n",
       "      <td>149756.71</td>\n",
       "      <td>1</td>\n",
       "    </tr>\n",
       "    <tr>\n",
       "      <th>16</th>\n",
       "      <td>653</td>\n",
       "      <td>Germany</td>\n",
       "      <td>Male</td>\n",
       "      <td>58</td>\n",
       "      <td>1.0</td>\n",
       "      <td>132602.88</td>\n",
       "      <td>1</td>\n",
       "      <td>1</td>\n",
       "      <td>0</td>\n",
       "      <td>5097.67</td>\n",
       "      <td>1</td>\n",
       "    </tr>\n",
       "    <tr>\n",
       "      <th>22</th>\n",
       "      <td>510</td>\n",
       "      <td>Spain</td>\n",
       "      <td>Female</td>\n",
       "      <td>38</td>\n",
       "      <td>4.0</td>\n",
       "      <td>0.00</td>\n",
       "      <td>1</td>\n",
       "      <td>1</td>\n",
       "      <td>0</td>\n",
       "      <td>118913.53</td>\n",
       "      <td>1</td>\n",
       "    </tr>\n",
       "  </tbody>\n",
       "</table>\n",
       "</div>"
      ],
      "text/plain": [
       "    CreditScore Geography  Gender  Age  Tenure    Balance  NumOfProducts  \\\n",
       "0           619    France  Female   42     2.0       0.00              1   \n",
       "2           502    France  Female   42     8.0  159660.80              3   \n",
       "5           645     Spain    Male   44     8.0  113755.78              2   \n",
       "16          653   Germany    Male   58     1.0  132602.88              1   \n",
       "22          510     Spain  Female   38     4.0       0.00              1   \n",
       "\n",
       "    HasCrCard  IsActiveMember  EstimatedSalary  Exited  \n",
       "0           1               1        101348.88       1  \n",
       "2           1               0        113931.57       1  \n",
       "5           1               0        149756.71       1  \n",
       "16          1               0          5097.67       1  \n",
       "22          1               0        118913.53       1  "
      ]
     },
     "execution_count": 37,
     "metadata": {},
     "output_type": "execute_result"
    }
   ],
   "source": [
    "standart_data.head(5)"
   ]
  },
  {
   "cell_type": "code",
   "execution_count": 38,
   "metadata": {},
   "outputs": [
    {
     "data": {
      "text/plain": [
       "CreditScore          int64\n",
       "Geography           object\n",
       "Gender              object\n",
       "Age                  int64\n",
       "Tenure             float64\n",
       "Balance            float64\n",
       "NumOfProducts        int64\n",
       "HasCrCard            int64\n",
       "IsActiveMember       int64\n",
       "EstimatedSalary    float64\n",
       "Exited               int64\n",
       "dtype: object"
      ]
     },
     "execution_count": 38,
     "metadata": {},
     "output_type": "execute_result"
    }
   ],
   "source": [
    "standart_data.dtypes"
   ]
  },
  {
   "cell_type": "code",
   "execution_count": 39,
   "metadata": {},
   "outputs": [
    {
     "name": "stdout",
     "output_type": "stream",
     "text": [
      "Более подробная статистика по числовым значениям\n",
      "       CreditScore          Age       Tenure        Balance  NumOfProducts  \\\n",
      "count  8541.000000  8541.000000  8541.000000    8541.000000    8541.000000   \n",
      "mean    650.896968    37.411193     4.999415   76660.699945       1.515279   \n",
      "std      95.902875     8.545661     2.889961   62313.141063       0.550416   \n",
      "min     373.000000    18.000000     0.000000       0.000000       1.000000   \n",
      "25%     584.000000    31.000000     2.000000       0.000000       1.000000   \n",
      "50%     652.000000    37.000000     5.000000   97408.030000       1.000000   \n",
      "75%     717.000000    42.000000     7.000000  127637.920000       2.000000   \n",
      "max     850.000000    70.000000    10.000000  250898.090000       3.000000   \n",
      "\n",
      "         HasCrCard  IsActiveMember  EstimatedSalary       Exited  \n",
      "count  8541.000000     8541.000000      8541.000000  8541.000000  \n",
      "mean      0.704601        0.491863    100346.471863     0.207821  \n",
      "std       0.456248        0.499963     57685.333258     0.405772  \n",
      "min       0.000000        0.000000        11.580000     0.000000  \n",
      "25%       0.000000        0.000000     51454.060000     0.000000  \n",
      "50%       1.000000        0.000000    100507.810000     0.000000  \n",
      "75%       1.000000        1.000000    149697.780000     0.000000  \n",
      "max       1.000000        1.000000    199992.480000     1.000000  \n",
      "Более подробная статистика по категориальным \n",
      "       Geography Gender\n",
      "count       8541   8541\n",
      "unique         3      2\n",
      "top       France   Male\n",
      "freq        4271   4670\n"
     ]
    }
   ],
   "source": [
    "print('Более подробная статистика по числовым значениям')\n",
    "with pd.option_context('display.max_columns', None):\n",
    "    print(standart_data.describe())\n",
    "#\n",
    "print('Более подробная статистика по категориальным ')\n",
    "with pd.option_context('display.max_columns', None):\n",
    "    print(standart_data.describe(include=object))"
   ]
  },
  {
   "cell_type": "code",
   "execution_count": 40,
   "metadata": {
    "scrolled": false
   },
   "outputs": [
    {
     "data": {
      "image/png": "[encoded data removed]",
      "text/plain": [
       "<Figure size 720x432 with 1 Axes>"
      ]
     },
     "metadata": {
      "needs_background": "light"
     },
     "output_type": "display_data"
    },
    {
     "data": {
      "image/png": "[encoded data removed]",
      "text/plain": [
       "<Figure size 720x432 with 1 Axes>"
      ]
     },
     "metadata": {
      "needs_background": "light"
     },
     "output_type": "display_data"
    },
    {
     "data": {
      "image/png": "[encoded data removed]",
      "text/plain": [
       "<Figure size 720x432 with 1 Axes>"
      ]
     },
     "metadata": {
      "needs_background": "light"
     },
     "output_type": "display_data"
    },
    {
     "data": {
      "image/png": "[encoded data removed]",
      "text/plain": [
       "<Figure size 720x432 with 1 Axes>"
      ]
     },
     "metadata": {
      "needs_background": "light"
     },
     "output_type": "display_data"
    },
    {
     "data": {
      "image/png": "[encoded data removed]",
      "text/plain": [
       "<Figure size 720x432 with 1 Axes>"
      ]
     },
     "metadata": {
      "needs_background": "light"
     },
     "output_type": "display_data"
    },
    {
     "data": {
      "image/png": "[encoded data removed]",
      "text/plain": [
       "<Figure size 720x432 with 1 Axes>"
      ]
     },
     "metadata": {
      "needs_background": "light"
     },
     "output_type": "display_data"
    },
    {
     "data": {
      "image/png": "[encoded data removed]",
      "text/plain": [
       "<Figure size 720x432 with 1 Axes>"
      ]
     },
     "metadata": {
      "needs_background": "light"
     },
     "output_type": "display_data"
    },
    {
     "data": {
      "image/png": "[encoded data removed]",
      "text/plain": [
       "<Figure size 720x432 with 1 Axes>"
      ]
     },
     "metadata": {
      "needs_background": "light"
     },
     "output_type": "display_data"
    },
    {
     "data": {
      "image/png": "[encoded data removed]",
      "text/plain": [
       "<Figure size 720x432 with 1 Axes>"
      ]
     },
     "metadata": {
      "needs_background": "light"
     },
     "output_type": "display_data"
    },
    {
     "data": {
      "image/png": "[encoded data removed]",
      "text/plain": [
       "<Figure size 720x432 with 1 Axes>"
      ]
     },
     "metadata": {
      "needs_background": "light"
     },
     "output_type": "display_data"
    },
    {
     "data": {
      "image/png": "[encoded data removed]",
      "text/plain": [
       "<Figure size 720x432 with 1 Axes>"
      ]
     },
     "metadata": {
      "needs_background": "light"
     },
     "output_type": "display_data"
    }
   ],
   "source": [
    "def plot_histogram(dataframe, column_name):\n",
    "    \"\"\"\n",
    "    Визуализирует гистограмму распределения значений столбца таблицы.\n",
    "\n",
    "    Параметры:\n",
    "    - dataframe: pandas.DataFrame, таблица данных.\n",
    "    - column_name: str, название столбца для визуализации.\n",
    "\n",
    "    Возвращает:\n",
    "    - Гистограмму\n",
    "    \"\"\"\n",
    "    plt.figure(figsize=(10, 6))\n",
    "    plt.hist(dataframe[column_name], bins=20, color='skyblue', edgecolor='black')\n",
    "    plt.xlabel(column_name)\n",
    "    plt.ylabel('Количество')\n",
    "    plt.title(f'Гистограмма распределения по полю \"{column_name}\"')\n",
    "    plt.grid(axis='y', linestyle='--', alpha=0.7)\n",
    "    plt.show()\n",
    "\n",
    "# Список столбцов, для которых вы хотите построить гистограммы\n",
    "columns_to_plot = standart_data.columns\n",
    "\n",
    "# Проход по списку столбцов и построение гистограмм\n",
    "for column in columns_to_plot:\n",
    "    plot_histogram(df, column)\n"
   ]
  },
  {
   "cell_type": "markdown",
   "metadata": {},
   "source": [
    "Теперь определим категориальные и количественные признаки"
   ]
  },
  {
   "cell_type": "code",
   "execution_count": 41,
   "metadata": {},
   "outputs": [
    {
     "data": {
      "text/plain": [
       "Index(['CreditScore', 'Geography', 'Gender', 'Age', 'Tenure', 'Balance',\n",
       "       'NumOfProducts', 'HasCrCard', 'IsActiveMember', 'EstimatedSalary',\n",
       "       'Exited'],\n",
       "      dtype='object')"
      ]
     },
     "execution_count": 41,
     "metadata": {},
     "output_type": "execute_result"
    }
   ],
   "source": [
    "standart_data.columns"
   ]
  },
  {
   "cell_type": "code",
   "execution_count": 42,
   "metadata": {},
   "outputs": [],
   "source": [
    "categorical_columns=['Geography','Gender','Tenure','NumOfProducts','HasCrCard','IsActiveMember']"
   ]
  },
  {
   "cell_type": "code",
   "execution_count": 43,
   "metadata": {},
   "outputs": [],
   "source": [
    "numeric_columns=['CreditScore','EstimatedSalary','Age','Balance']"
   ]
  },
  {
   "cell_type": "code",
   "execution_count": 44,
   "metadata": {},
   "outputs": [
    {
     "data": {
      "image/png": "[encoded data removed]",
      "text/plain": [
       "<Figure size 1152x576 with 2 Axes>"
      ]
     },
     "metadata": {
      "needs_background": "light"
     },
     "output_type": "display_data"
    }
   ],
   "source": [
    "# корр матрица phik \n",
    "phik_corrs = standart_data.phik_matrix(interval_cols=numeric_columns)\n",
    "plot_correlation_matrix(phik_corrs.values, \n",
    "                        x_labels=phik_corrs.columns, \n",
    "                        y_labels=phik_corrs.index, \n",
    "                        vmin=0, vmax=1, color_map=\"Greens\", \n",
    "                        title=r\"correlation $\\phi_K$\", \n",
    "                        fontsize_factor=1.5, \n",
    "                        figsize=(16, 8))\n",
    "plt.tight_layout()"
   ]
  },
  {
   "cell_type": "code",
   "execution_count": 45,
   "metadata": {},
   "outputs": [
    {
     "data": {
      "text/plain": [
       "Index(['CreditScore', 'Geography', 'Gender', 'Age', 'Tenure', 'Balance',\n",
       "       'NumOfProducts', 'HasCrCard', 'IsActiveMember', 'EstimatedSalary',\n",
       "       'Exited'],\n",
       "      dtype='object')"
      ]
     },
     "execution_count": 45,
     "metadata": {},
     "output_type": "execute_result"
    }
   ],
   "source": [
    "standart_data.columns"
   ]
  },
  {
   "cell_type": "markdown",
   "metadata": {},
   "source": [
    "На таргет`Exited` влияет `Age` 0.62 \n",
    "\n",
    "На параметр `NumOfProducts` влияет `Balance` 0.42\n",
    "\n",
    "`Balance` зависит от `Geography` 0.47"
   ]
  },
  {
   "cell_type": "markdown",
   "metadata": {},
   "source": [
    "### Вывод по блоку :\n",
    "\n",
    "Данные предоставляют информацию о клиентах банка и их поведении, а также описывают, ушли ли они из банка или остались. Эти данные будут использоваться для построения модели прогнозирования ухода клиентов.\n",
    "\n",
    "### Подготовка данных\n",
    "\n",
    "1. Признак `Tenure`, у которого есть значения NaN (пропуски), может представлять новых клиентов банка. Мы предлагаем создать отдельную группу для таких клиентов. Целевой признак `Exited` будет в формате bool, где True обозначает уход клиента (1), а False - оставшегося клиента (0).\n",
    "\n",
    "2. Индекс строки (`RowNumber`) выглядит как мусор при выгрузке данных, поэтому мы удалили его из набора данных.\n",
    "\n",
    "3. Признак `Surname` не предоставляет полезной информации для анализа ухода клиентов, поэтому мы также удалили его.\n",
    "\n",
    "4. Признак `NumOfProducts` может иметь зависимость с другими признаками, поэтому мы рассмотрим его для возможного исключения из анализа после дополнительного исследования.\n",
    "\n",
    "5. Признаки `HasCrCard` и `EstimatedSalary` также подвергнуты рассмотрению на предмет сильной зависимости от других признаков и возможности их исключения.\n",
    "\n",
    "### Анализ данных\n",
    "\n",
    "6. Мы не имеем подробной информации о том, как именно рассчитывается `CreditScore`, и о размерности `Tenure`. Признак `HasCrCard` имеет тип данных bool, а также `IsActiveMember`. `EstimatedSalary` не имеет описания методики расчета. Целевой признак `Exited` также представлен в формате bool.\n",
    "\n",
    "7. Кроме того, нам не известен период, за который были получены данные. Возможно, мы можем разделить пользователей на категории на основе баланса с целью оценки потенциальной способности вернуть кредит.\n",
    "\n",
    "### Корреляционный анализ\n",
    "\n",
    "8. Из анализа корреляции между признаками видно, что на целевой признак `Exited` влияет возраст (`Age`) с коэффициентом корреляции 0.62. Также замечено влияние количества продуктов (`NumOfProducts`) на баланс (`Balance`) с коэффициентом корреляции 0.42. Кроме того, баланс (`Balance`) зависит от страны проживания (`Geography`) с коэффициентом корреляции 0.47.\n",
    "\n",
    "В дальнейшем это поможет нам лучше понять данные и определить наилучшие признаки для построения модели прогнозирования ухода клиентов.\n"
   ]
  },
  {
   "cell_type": "markdown",
   "metadata": {},
   "source": [
    "Выбранные признаки для построения модели:\n",
    "\n",
    "- 'CreditScore'\n",
    "- 'Age'\n",
    "- 'Tenure'\n",
    "- 'Balance'\n",
    "- 'NumOfProducts'\n",
    "- 'HasCrCard'\n",
    "- 'IsActiveMember'\n",
    "- 'EstimatedSalary'\n",
    "- 'Exited'\n",
    "\n",
    "Для решения задачи будет использоваться массив данных после сброса аномальных значений по межквартильному размаху (IQR) под названием `standart_data`."
   ]
  },
  {
   "cell_type": "code",
   "execution_count": 46,
   "metadata": {},
   "outputs": [
    {
     "data": {
      "text/html": [
       "<div>\n",
       "<style scoped>\n",
       "    .dataframe tbody tr th:only-of-type {\n",
       "        vertical-align: middle;\n",
       "    }\n",
       "\n",
       "    .dataframe tbody tr th {\n",
       "        vertical-align: top;\n",
       "    }\n",
       "\n",
       "    .dataframe thead th {\n",
       "        text-align: right;\n",
       "    }\n",
       "</style>\n",
       "<table border=\"1\" class=\"dataframe\">\n",
       "  <thead>\n",
       "    <tr style=\"text-align: right;\">\n",
       "      <th></th>\n",
       "      <th>exit 1/0</th>\n",
       "      <th>quantity</th>\n",
       "    </tr>\n",
       "  </thead>\n",
       "  <tbody>\n",
       "    <tr>\n",
       "      <th>0</th>\n",
       "      <td>0</td>\n",
       "      <td>6766</td>\n",
       "    </tr>\n",
       "    <tr>\n",
       "      <th>1</th>\n",
       "      <td>1</td>\n",
       "      <td>1775</td>\n",
       "    </tr>\n",
       "  </tbody>\n",
       "</table>\n",
       "</div>"
      ],
      "text/plain": [
       "   exit 1/0  quantity\n",
       "0         0      6766\n",
       "1         1      1775"
      ]
     },
     "metadata": {},
     "output_type": "display_data"
    }
   ],
   "source": [
    "user_status=pd.DataFrame(standart_data['Exited'].value_counts())\n",
    "user_status=user_status.reset_index()\n",
    "user_status.columns=['exit 1/0','quantity']\n",
    "display(user_status)"
   ]
  },
  {
   "cell_type": "code",
   "execution_count": 47,
   "metadata": {},
   "outputs": [
    {
     "data": {
      "text/plain": [
       "Index(['CreditScore', 'Geography', 'Gender', 'Age', 'Tenure', 'Balance',\n",
       "       'NumOfProducts', 'HasCrCard', 'IsActiveMember', 'EstimatedSalary',\n",
       "       'Exited'],\n",
       "      dtype='object')"
      ]
     },
     "execution_count": 47,
     "metadata": {},
     "output_type": "execute_result"
    }
   ],
   "source": [
    "standart_data.columns"
   ]
  },
  {
   "cell_type": "markdown",
   "metadata": {},
   "source": [
    "При решении будем использовать upsampling или downsampling"
   ]
  },
  {
   "cell_type": "code",
   "execution_count": 48,
   "metadata": {},
   "outputs": [],
   "source": [
    "X = standart_data[['CreditScore', 'EstimatedSalary', 'Age', 'Balance', 'Geography', 'Gender', 'Tenure', 'NumOfProducts', 'HasCrCard', 'IsActiveMember']]\n",
    "y = standart_data['Exited']"
   ]
  },
  {
   "cell_type": "markdown",
   "metadata": {},
   "source": [
    "## Подготовка X_train, X_test, y_train, y_test"
   ]
  },
  {
   "cell_type": "code",
   "execution_count": 49,
   "metadata": {},
   "outputs": [],
   "source": [
    "X_train, X_test, y_train, y_test = train_test_split(X, y, test_size=0.2, random_state=RANDOM_STATE)"
   ]
  },
  {
   "cell_type": "markdown",
   "metadata": {},
   "source": [
    "## Моделирование с  использованием  LogisticRegression"
   ]
  },
  {
   "cell_type": "code",
   "execution_count": 50,
   "metadata": {},
   "outputs": [],
   "source": [
    "\n",
    "\n",
    "# Список числовых признаков\n",
    "numeric_columns = ['CreditScore', 'EstimatedSalary', 'Age', 'Balance']\n",
    "\n",
    "# Список категориальных признаков\n",
    "categorical_columns = ['Geography', 'Gender', 'Tenure', 'NumOfProducts', 'HasCrCard', 'IsActiveMember']\n",
    "\n",
    "# Создание трансформера для числовых признаков\n",
    "numeric_transformer = Pipeline(steps=[\n",
    "    ('scaler', RobustScaler())\n",
    "])\n",
    "\n",
    "# Создание трансформера для категориальных признаков\n",
    "categorical_transformer = Pipeline(steps=[\n",
    "    ('onehot', OneHotEncoder())\n",
    "])\n",
    "\n",
    "# Объединение трансформеров\n",
    "preprocessor = ColumnTransformer(\n",
    "    transformers=[\n",
    "        ('num', numeric_transformer, numeric_columns),\n",
    "        ('cat', categorical_transformer, categorical_columns)\n",
    "    ])\n",
    "\n",
    "# Определение весов классов для борьбы с дисбалансом\n",
    "class_weights = class_weight.compute_class_weight('balanced', classes=[0, 1], y=y_train)\n",
    "\n",
    "# Создание пайплайна\n",
    "pipeline = Pipeline([\n",
    "    ('preprocessor', preprocessor),\n",
    "    ('classifier', LogisticRegression(class_weight={0: class_weights[0], 1: class_weights[1]}))  # Взвешивание классов\n",
    "])\n"
   ]
  },
  {
   "cell_type": "code",
   "execution_count": 51,
   "metadata": {},
   "outputs": [
    {
     "name": "stdout",
     "output_type": "stream",
     "text": [
      "Accuracy: 0.7834991222937391\n",
      "F1 Score: 0.5804988662131519\n",
      "ROC AUC Score: 0.7736654020949594\n",
      "Confusion Matrix:\n",
      " [[1083  288]\n",
      " [  82  256]]\n",
      "Classification Report:\n",
      "               precision    recall  f1-score   support\n",
      "\n",
      "           0       0.93      0.79      0.85      1371\n",
      "           1       0.47      0.76      0.58       338\n",
      "\n",
      "    accuracy                           0.78      1709\n",
      "   macro avg       0.70      0.77      0.72      1709\n",
      "weighted avg       0.84      0.78      0.80      1709\n",
      "\n"
     ]
    }
   ],
   "source": [
    "# Обучение пайплайна на обучающей выборке\n",
    "pipeline.fit(X_train, y_train)\n",
    "\n",
    "# Предсказания на тестовой выборке\n",
    "y_pred = pipeline.predict(X_test)\n",
    "\n",
    "# Оценка производительности модели\n",
    "\n",
    "\n",
    "# Оценка точности\n",
    "accuracy = accuracy_score(y_test, y_pred)\n",
    "\n",
    "# Оценка F1-меры\n",
    "f1 = f1_score(y_test, y_pred)\n",
    "\n",
    "# Оценка ROC-AUC\n",
    "roc_auc = roc_auc_score(y_test, y_pred)\n",
    "\n",
    "# Матрица ошибок (Confusion Matrix)\n",
    "confusion = confusion_matrix(y_test, y_pred)\n",
    "\n",
    "# Вывод результатов\n",
    "print(\"Accuracy:\", accuracy)\n",
    "print(\"F1 Score:\", f1)\n",
    "print(\"ROC AUC Score:\", roc_auc)\n",
    "print(\"Confusion Matrix:\\n\", confusion)\n",
    "\n",
    "# Отчет о классификации\n",
    "classification_rep = classification_report(y_test, y_pred)\n",
    "print(\"Classification Report:\\n\", classification_rep)\n"
   ]
  },
  {
   "cell_type": "markdown",
   "metadata": {},
   "source": [
    "## Моделирование с  использованием  RandomForestClassifier"
   ]
  },
  {
   "cell_type": "code",
   "execution_count": 52,
   "metadata": {},
   "outputs": [
    {
     "name": "stdout",
     "output_type": "stream",
     "text": [
      "Accuracy (RandomForest): 0.8683440608543007\n",
      "F1 Score (RandomForest): 0.5916515426497277\n",
      "ROC AUC Score (RandomForest): 0.7228893952930311\n",
      "Confusion Matrix (RandomForest):\n",
      " [[1321   50]\n",
      " [ 175  163]]\n",
      "Classification Report (RandomForest):\n",
      "               precision    recall  f1-score   support\n",
      "\n",
      "           0       0.88      0.96      0.92      1371\n",
      "           1       0.77      0.48      0.59       338\n",
      "\n",
      "    accuracy                           0.87      1709\n",
      "   macro avg       0.82      0.72      0.76      1709\n",
      "weighted avg       0.86      0.87      0.86      1709\n",
      "\n"
     ]
    }
   ],
   "source": [
    "# Создание пайплайна с использованием RandomForestClassifier\n",
    "pipeline_rf = Pipeline([\n",
    "    ('preprocessor', preprocessor),\n",
    "    ('classifier', RandomForestClassifier(random_state=RANDOM_STATE))  # Модель RandomForestClassifier\n",
    "])\n",
    "\n",
    "# Обучение пайплайна на обучающей выборке\n",
    "pipeline_rf.fit(X_train, y_train)\n",
    "\n",
    "# Предсказания на тестовой выборке\n",
    "y_pred_rf = pipeline_rf.predict(X_test)\n",
    "\n",
    "# Оценка точности\n",
    "accuracy_rf = accuracy_score(y_test, y_pred_rf)\n",
    "\n",
    "# Оценка F1-меры\n",
    "f1_rf = f1_score(y_test, y_pred_rf)\n",
    "\n",
    "# Оценка ROC-AUC\n",
    "roc_auc_rf = roc_auc_score(y_test, y_pred_rf)\n",
    "\n",
    "# Матрица ошибок (Confusion Matrix)\n",
    "confusion_rf = confusion_matrix(y_test, y_pred_rf)\n",
    "\n",
    "# Вывод результатов\n",
    "print(\"Accuracy (RandomForest):\", accuracy_rf)\n",
    "print(\"F1 Score (RandomForest):\", f1_rf)\n",
    "print(\"ROC AUC Score (RandomForest):\", roc_auc_rf)\n",
    "print(\"Confusion Matrix (RandomForest):\\n\", confusion_rf)\n",
    "\n",
    "# Отчет о классификации\n",
    "classification_rep_rf = classification_report(y_test, y_pred_rf)\n",
    "print(\"Classification Report (RandomForest):\\n\", classification_rep_rf)\n"
   ]
  },
  {
   "cell_type": "markdown",
   "metadata": {},
   "source": [
    "## Моделирование с  использованием  DecisionTreeClassifier"
   ]
  },
  {
   "cell_type": "code",
   "execution_count": 53,
   "metadata": {},
   "outputs": [
    {
     "name": "stdout",
     "output_type": "stream",
     "text": [
      "Accuracy (DecisionTree): 0.7975424224692803\n",
      "F1 Score (DecisionTree): 0.5154061624649859\n",
      "ROC AUC Score (DecisionTree): 0.7021674672743516\n",
      "Confusion Matrix (DecisionTree):\n",
      " [[1179  192]\n",
      " [ 154  184]]\n",
      "Classification Report (DecisionTree):\n",
      "               precision    recall  f1-score   support\n",
      "\n",
      "           0       0.88      0.86      0.87      1371\n",
      "           1       0.49      0.54      0.52       338\n",
      "\n",
      "    accuracy                           0.80      1709\n",
      "   macro avg       0.69      0.70      0.69      1709\n",
      "weighted avg       0.81      0.80      0.80      1709\n",
      "\n"
     ]
    }
   ],
   "source": [
    "# Создание пайплайна с использованием DecisionTreeClassifier\n",
    "pipeline_dt = Pipeline([\n",
    "    ('preprocessor', preprocessor),\n",
    "    ('classifier', DecisionTreeClassifier(random_state=RANDOM_STATE))  # Модель DecisionTreeClassifier\n",
    "])\n",
    "\n",
    "# Обучение пайплайна на обучающей выборке\n",
    "pipeline_dt.fit(X_train, y_train)\n",
    "\n",
    "# Предсказания на тестовой выборке\n",
    "y_pred_dt = pipeline_dt.predict(X_test)\n",
    "\n",
    "\n",
    "# Оценка точности\n",
    "accuracy_dt = accuracy_score(y_test, y_pred_dt)\n",
    "\n",
    "# Оценка F1-меры\n",
    "f1_dt = f1_score(y_test, y_pred_dt)\n",
    "\n",
    "# Оценка ROC-AUC\n",
    "roc_auc_dt = roc_auc_score(y_test, y_pred_dt)\n",
    "\n",
    "# Матрица ошибок (Confusion Matrix)\n",
    "confusion_dt = confusion_matrix(y_test, y_pred_dt)\n",
    "\n",
    "# Вывод результатов\n",
    "print(\"Accuracy (DecisionTree):\", accuracy_dt)\n",
    "print(\"F1 Score (DecisionTree):\", f1_dt)\n",
    "print(\"ROC AUC Score (DecisionTree):\", roc_auc_dt)\n",
    "print(\"Confusion Matrix (DecisionTree):\\n\", confusion_dt)\n",
    "\n",
    "# Отчет о классификации\n",
    "classification_rep_dt = classification_report(y_test, y_pred_dt)\n",
    "print(\"Classification Report (DecisionTree):\\n\", classification_rep_dt)\n"
   ]
  },
  {
   "cell_type": "markdown",
   "metadata": {},
   "source": [
    "Теперь сведем все три модели и выберем лучшую "
   ]
  },
  {
   "cell_type": "code",
   "execution_count": 54,
   "metadata": {},
   "outputs": [
    {
     "name": "stdout",
     "output_type": "stream",
     "text": [
      "Logistic Regression: F1 Score Mean=0.6043558350946016, F1 Score Std=0.007506872583290446\n",
      "Random Forest: F1 Score Mean=0.5895384859547274, F1 Score Std=0.021779344415310212\n",
      "Decision Tree: F1 Score Mean=0.5336680457175763, F1 Score Std=0.009164711869109086\n",
      "\n",
      "Лучшая модель: Logistic Regression\n"
     ]
    }
   ],
   "source": [
    "# Создание списка моделей и их названий\n",
    "models = [\n",
    "    ('Logistic Regression', pipeline),\n",
    "    ('Random Forest', pipeline_rf),\n",
    "    ('Decision Tree', pipeline_dt)\n",
    "]\n",
    "\n",
    "# Сравнение производительности моделей с использованием перекрестной проверки\n",
    "results = []\n",
    "for name, model in models:\n",
    "    cv_results = cross_val_score(model, X_train, y_train, cv=5, scoring='f1')\n",
    "    results.append((name, cv_results))\n",
    "\n",
    "# Вывод результатов\n",
    "for name, cv_results in results:\n",
    "    print(f\"{name}: F1 Score Mean={cv_results.mean()}, F1 Score Std={cv_results.std()}\")\n",
    "\n",
    "# Выбор лучшей модели на основе F1-меры\n",
    "best_model = max(models, key=lambda x: cross_val_score(x[1], X_train, y_train, cv=5, scoring='f1').mean())\n",
    "\n",
    "print(f\"\\nЛучшая модель: {best_model[0]}\")\n"
   ]
  },
  {
   "cell_type": "code",
   "execution_count": 55,
   "metadata": {},
   "outputs": [
    {
     "data": {
      "image/png": "[encoded data removed]",
      "text/plain": [
       "<Figure size 720x432 with 1 Axes>"
      ]
     },
     "metadata": {
      "needs_background": "light"
     },
     "output_type": "display_data"
    }
   ],
   "source": [
    "\n",
    "\n",
    "# Создание списка моделей и их названий\n",
    "models = [\n",
    "    ('Logistic Regression', pipeline),\n",
    "    ('Random Forest', pipeline_rf),\n",
    "    ('Decision Tree', pipeline_dt)\n",
    "]\n",
    "\n",
    "# Построение ROC-кривых для каждой модели\n",
    "plt.figure(figsize=(10, 6))\n",
    "for name, model in models:\n",
    "    model.fit(X_train, y_train)\n",
    "    y_pred_prob = model.predict_proba(X_test)[:, 1]\n",
    "    fpr, tpr, thresholds = roc_curve(y_test, y_pred_prob)\n",
    "    roc_auc = auc(fpr, tpr)\n",
    "    plt.plot(fpr, tpr, label=f'{name} (AUC = {roc_auc:.2f})')\n",
    "\n",
    "# Настройка внешнего вида графика\n",
    "plt.plot([0, 1], [0, 1], 'k--')\n",
    "plt.xlim([0.0, 1.0])\n",
    "plt.ylim([0.0, 1.05])\n",
    "plt.xlabel('False Positive Rate')\n",
    "plt.ylabel('True Positive Rate')\n",
    "plt.title('ROC Curve')\n",
    "plt.legend(loc='lower right')\n",
    "\n",
    "# Отображение графика\n",
    "plt.show()\n"
   ]
  },
  {
   "cell_type": "markdown",
   "metadata": {},
   "source": [
    "**Вывод**\n",
    "\n",
    "1. Logistic Regression демонстрирует наилучшую производительность с средним значением F1-меры равным 0.6044 и низким стандартным отклонением 0.0075. Эта модель обеспечивает стабильную и высокую способность прогнозирования ухода клиентов на кросс-валидации.\n",
    "\n",
    "2. RandomForestClassifier, хотя имеет сравнимое с Logistic Regression среднее значение F1-меры (0.5942), обладает более высоким стандартным отклонением (0.0290), что может указывать на большую изменчивость в производительности на разных фолдах кросс-валидации.\n",
    "\n",
    "3. DecisionTreeClassifier демонстрирует наименьшую среднюю F1-меру среди всех моделей (0.5337) и низкое стандартное отклонение (0.0092), что делает его менее предпочтительным выбором для данной задачи.\n",
    "\n",
    "Наилучшей моделью для прогнозирования ухода клиентов остается Logistic Regression, благодаря ее стабильной и высокой производительности. \n"
   ]
  },
  {
   "cell_type": "code",
   "execution_count": 56,
   "metadata": {},
   "outputs": [
    {
     "name": "stdout",
     "output_type": "stream",
     "text": [
      "Accuracy (DummyClassifier): 0.802223522527794\n",
      "F1 Score (DummyClassifier): 0.0\n",
      "ROC AUC Score (DummyClassifier): 0.5\n",
      "Confusion Matrix (DummyClassifier):\n",
      " [[1371    0]\n",
      " [ 338    0]]\n",
      "Classification Report (DummyClassifier):\n",
      "               precision    recall  f1-score   support\n",
      "\n",
      "           0       0.80      1.00      0.89      1371\n",
      "           1       0.00      0.00      0.00       338\n",
      "\n",
      "    accuracy                           0.80      1709\n",
      "   macro avg       0.40      0.50      0.45      1709\n",
      "weighted avg       0.64      0.80      0.71      1709\n",
      "\n"
     ]
    }
   ],
   "source": [
    "# Создание пайплайна с использованием DummyClassifier\n",
    "pipeline_dum = Pipeline([\n",
    "    ('preprocessor', preprocessor),\n",
    "    ('classifier', DummyClassifier(random_state=RANDOM_STATE,strategy=\"most_frequent\"))  # Модель DecisionTreeClassifier\n",
    "])\n",
    "\n",
    "# Обучение пайплайна на обучающей выборке\n",
    "pipeline_dum.fit(X_train, y_train)\n",
    "\n",
    "# Предсказания на тестовой выборке\n",
    "y_pred_dt = pipeline_dum.predict(X_test)\n",
    "\n",
    "\n",
    "# Оценка точности\n",
    "accuracy_dt = accuracy_score(y_test, y_pred_dt)\n",
    "\n",
    "# Оценка F1-меры\n",
    "f1_dt = f1_score(y_test, y_pred_dt)\n",
    "\n",
    "# Оценка ROC-AUC\n",
    "roc_auc_dt = roc_auc_score(y_test, y_pred_dt)\n",
    "\n",
    "# Матрица ошибок (Confusion Matrix)\n",
    "confusion_dt = confusion_matrix(y_test, y_pred_dt)\n",
    "\n",
    "# Вывод результатов\n",
    "print(\"Accuracy (DummyClassifier):\", accuracy_dt)\n",
    "print(\"F1 Score (DummyClassifier):\", f1_dt)\n",
    "print(\"ROC AUC Score (DummyClassifier):\", roc_auc_dt)\n",
    "print(\"Confusion Matrix (DummyClassifier):\\n\", confusion_dt)\n",
    "\n",
    "# Отчет о классификации\n",
    "classification_rep_dum = classification_report(y_test, y_pred_dt)\n",
    "print(\"Classification Report (DummyClassifier):\\n\", classification_rep_dum)\n"
   ]
  },
  {
   "cell_type": "code",
   "execution_count": null,
   "metadata": {},
   "outputs": [],
   "source": []
  },
  {
   "cell_type": "markdown",
   "metadata": {},
   "source": [
    "## Сравнение с dummy моделью"
   ]
  },
  {
   "cell_type": "code",
   "execution_count": 57,
   "metadata": {},
   "outputs": [
    {
     "name": "stdout",
     "output_type": "stream",
     "text": [
      "Dummy Classifier:\n",
      "              precision    recall  f1-score   support\n",
      "\n",
      "           0       0.80      1.00      0.89      1371\n",
      "           1       0.00      0.00      0.00       338\n",
      "\n",
      "    accuracy                           0.80      1709\n",
      "   macro avg       0.40      0.50      0.45      1709\n",
      "weighted avg       0.64      0.80      0.71      1709\n",
      "\n",
      "AUC-ROC: 0.5\n",
      "\n",
      "Logistic Regression Classifier:\n",
      "              precision    recall  f1-score   support\n",
      "\n",
      "           0       0.93      0.79      0.85      1371\n",
      "           1       0.47      0.76      0.58       338\n",
      "\n",
      "    accuracy                           0.78      1709\n",
      "   macro avg       0.70      0.77      0.72      1709\n",
      "weighted avg       0.84      0.78      0.80      1709\n",
      "\n",
      "AUC-ROC: 0.7736654020949594\n"
     ]
    }
   ],
   "source": [
    "# Создание и обучение Dummy модели\n",
    "dummy_classifier = DummyClassifier(random_state=RANDOM_STATE,strategy=\"most_frequent\")  # Выбираем самый частый класс\n",
    "dummy_classifier.fit(X_train, y_train)\n",
    "\n",
    "# Предсказания Dummy модели\n",
    "dummy_predictions = dummy_classifier.predict(X_test)\n",
    "\n",
    "# Предсказания Logistic Regression пайплайна\n",
    "logistic_regression_predictions = pipeline.predict(X_test)\n",
    "\n",
    "# Оценка Dummy модели\n",
    "print(\"Dummy Classifier:\")\n",
    "print(classification_report(y_test, dummy_predictions))\n",
    "print(\"AUC-ROC:\", roc_auc_score(y_test, dummy_predictions))\n",
    "\n",
    "# Оценка Logistic Regression пайплайна\n",
    "print(\"\\nLogistic Regression Classifier:\")\n",
    "print(classification_report(y_test, logistic_regression_predictions))\n",
    "print(\"AUC-ROC:\", roc_auc_score(y_test, logistic_regression_predictions))\n"
   ]
  },
  {
   "cell_type": "code",
   "execution_count": 58,
   "metadata": {},
   "outputs": [
    {
     "data": {
      "image/png": "[encoded data removed]",
      "text/plain": [
       "<Figure size 720x432 with 1 Axes>"
      ]
     },
     "metadata": {
      "needs_background": "light"
     },
     "output_type": "display_data"
    }
   ],
   "source": [
    "\n",
    "# Создание списка моделей и их названий\n",
    "models = [\n",
    "    ('Logistic Regression', pipeline),\n",
    "    ('Random Forest', pipeline_rf),\n",
    "    ('Decision Tree', pipeline_dt),\n",
    "    ('DummyClassifier', pipeline_dum)\n",
    "    \n",
    "]\n",
    "\n",
    "# Построение ROC-кривых для каждой модели\n",
    "plt.figure(figsize=(10, 6))\n",
    "for name, model in models:\n",
    "    model.fit(X_train, y_train)\n",
    "    y_pred_prob = model.predict_proba(X_test)[:, 1]\n",
    "    fpr, tpr, thresholds = roc_curve(y_test, y_pred_prob)\n",
    "    roc_auc = auc(fpr, tpr)\n",
    "    plt.plot(fpr, tpr, label=f'{name} (AUC = {roc_auc:.2f})')\n",
    "\n",
    "# Настройка внешнего вида графика\n",
    "plt.plot([0, 1], [0, 1], 'k--')\n",
    "plt.xlim([0.0, 1.0])\n",
    "plt.ylim([0.0, 1.05])\n",
    "plt.xlabel('False Positive Rate')\n",
    "plt.ylabel('True Positive Rate')\n",
    "plt.title('ROC Curve')\n",
    "plt.legend(loc='lower right')\n",
    "\n",
    "# Отображение графика\n",
    "plt.show()"
   ]
  },
  {
   "cell_type": "markdown",
   "metadata": {},
   "source": [
    "**Вывод**\n",
    "\n",
    "\n",
    "- **Dummy Classifier:** Данный классификатор, который предсказывает всегда класс 0 (клиент не ушел), демонстрирует низкую производительность. Он имеет высокую точность (precision) для класса 0, но полнота (recall) и F1-мера для класса 1 (ушедших клиентов) равны нулю. Это означает, что Dummy Classifier не способен правильно выявлять уход клиентов и является плохой моделью для данной задачи. AUC-ROC равен 0.5, что говорит о случайном предсказании.\n",
    "\n",
    "- **Logistic Regression Classifier:** В отличие от Dummy Classifier, Logistic Regression Classifier обладает гораздо лучшей производительностью. Он имеет высокую точность и полноту для класса 0 (оставшихся клиентов), а также умеренные значения для класса 1 (ушедших клиентов). F1-мера для класса 1 составляет 0.61, что говорит о том, что модель хорошо справляется с предсказанием ухода клиентов. AUC-ROC равен 0.771, что свидетельствует о хорошей способности модели разделять классы.\n",
    "\n",
    "В итоге, модель Logistic Regression Classifier значительно превосходит Dummy Classifier в задаче прогнозирования ухода клиентов. \n",
    "\n",
    "\n",
    "А это значит, что мы можем использовать его для предсказания опттока клиентов . Но, для более точных прогнозов, модель может быть улучшена путем настройки гиперпараметров или путем использования более сложных алгоритмов машинного обучения."
   ]
  },
  {
   "cell_type": "markdown",
   "metadata": {},
   "source": [
    "# Итоговый вывод\n",
    "\n",
    "Данные, предоставленные для анализа, содержат информацию о клиентах банка, их поведении и факте ухода из банка. Эти данные будут использоваться для построения модели прогнозирования ухода клиентов.\n",
    "\n",
    "## Выводы\n",
    "\n",
    "1. **Признак Tenure** – у него имеются значения NaN (пропуски), которые могут представлять новых клиентов банка. Для удобства анализа предложено создать отдельную группу для таких клиентов, и **целевой признак Exited** будет в формате bool, где True обозначает уход клиента (1), а False - оставшегося клиента (0).\n",
    "\n",
    "2. **Индекс строки (RowNumber)** является излишним признаком и был удален из набора данных, так как не предоставляет полезной информации для анализа.\n",
    "\n",
    "3. **Признак Surname (фамилия клиента)** также не предоставляет полезной информации для анализа ухода клиентов и был удален.\n",
    "\n",
    "4. **Признак NumOfProducts (количество продуктов банка, используемых клиентом)** может иметь зависимость с другими признаками, и его целесообразно рассмотреть для возможного исключения из анализа после дополнительного исследования.\n",
    "\n",
    "5. **Признаки HasCrCard (наличие кредитной карты) и EstimatedSalary (предполагаемая зарплата)** также подвергнуты рассмотрению на предмет сильной зависимости от других признаков и возможности их исключения.\n",
    "\n",
    "6. Важно отметить, что не имеется подробной информации о методиках расчета некоторых признаков, таких как **CreditScore** и размерность **Tenure**, а также о **периоде**, за который были получены данные. Поэтому необходимо учесть эту неопределенность при анализе и построении модели прогнозирования ухода клиентов.\n",
    "\n",
    "7. Анализ корреляции между признаками позволил выявить влияние **возраста (Age)** на целевой признак **Exited**, а также зависимость между **количеством продуктов (NumOfProducts)** и **балансом (Balance)**. Также обнаружена корреляция **баланса (Balance)** с **местоположением клиента (Geography)**.\n",
    "\n",
    "## Выбранный набор признаков\n",
    "\n",
    "Для анализа и построения модели прогнозирования ухода клиентов будет использоваться массив данных после сброса аномальных значений по межквартильному размаху (IQR), обозначенный как **standart_data**. Выбранный набор признаков для построения модели включает:\n",
    "\n",
    "- 'CreditScore'\n",
    "- 'Age'\n",
    "- 'Tenure'\n",
    "- 'Balance'\n",
    "- 'NumOfProducts'\n",
    "- 'HasCrCard'\n",
    "- 'IsActiveMember'\n",
    "- 'EstimatedSalary'\n",
    "- 'Exited'\n",
    "\n",
    "## Моделирование и выбор модели\n",
    "\n",
    "Для анализа ухода клиентов были использованы три модели: **Logistic Regression**, **RandomForestClassifier** и **DecisionTreeClassifier**. Сравнение моделей на основе F1-меры показало, что **Logistic Regression** демонстрирует наилучшую производительность с высоким средним значением F1-меры и низким стандартным отклонением. Поэтому для задачи прогнозирования ухода клиентов рекомендуется использовать модель **Logistic Regression**.\n",
    "\n",
    "В целом, результаты анализа и построения модели позволяют банку прогнозировать уход клиентов с высокой точностью и принимать соответствующие меры для их удержания.\n",
    "\n",
    "Dummy Classifier: Данный классификатор, который предсказывает всегда класс 0 (клиент не ушел), демонстрирует низкую производительность. Он имеет высокую точность (precision) для класса 0, но полнота (recall) и F1-мера для класса 1 (ушедших клиентов) равны нулю. Это означает, что Dummy Classifier не способен правильно выявлять уход клиентов и является плохой моделью для данной задачи. AUC-ROC равен 0.5, что говорит о случайном предсказании.\n",
    "\n",
    "Logistic Regression Classifier: В отличие от Dummy Classifier, Logistic Regression Classifier обладает гораздо лучшей производительностью. Он имеет высокую точность и полноту для класса 0 (оставшихся клиентов), а также умеренные значения для класса 1 (ушедших клиентов). F1-мера для класса 1 составляет 0.61, что говорит о том, что модель хорошо справляется с предсказанием ухода клиентов. AUC-ROC равен 0.771, что свидетельствует о хорошей способности модели разделять классы.\n",
    "\n",
    "\n",
    "В итоге, модель Logistic Regression Classifier значительно превосходит Dummy Classifier в задаче прогнозирования ухода клиентов. \n",
    "А это значит, что мы можем использовать его для предсказания опттока клиентов . Но, для более точных прогнозов, модель может быть улучшена путем настройки гиперпараметров или путем использования более сложных алгоритмов машинного обучения."
   ]
  },
  {
   "cell_type": "code",
   "execution_count": null,
   "metadata": {},
   "outputs": [],
   "source": []
  }
 ],
 "metadata": {
  "ExecuteTimeLog": [
   {
    "duration": 422,
    "start_time": "2023-07-19T14:59:17.723Z"
   },
   {
    "duration": 2225,
    "start_time": "2023-07-19T15:04:20.254Z"
   },
   {
    "duration": 4,
    "start_time": "2023-07-19T15:07:17.571Z"
   },
   {
    "duration": 562,
    "start_time": "2023-07-19T15:08:20.162Z"
   },
   {
    "duration": 76,
    "start_time": "2023-07-19T15:14:51.179Z"
   },
   {
    "duration": 357,
    "start_time": "2023-07-19T15:15:03.994Z"
   },
   {
    "duration": 27,
    "start_time": "2023-07-19T15:15:18.316Z"
   },
   {
    "duration": 3,
    "start_time": "2023-07-19T15:16:12.685Z"
   },
   {
    "duration": 3,
    "start_time": "2023-07-19T15:16:46.482Z"
   },
   {
    "duration": 24,
    "start_time": "2023-07-19T15:16:57.958Z"
   },
   {
    "duration": 4,
    "start_time": "2023-07-19T15:19:30.404Z"
   },
   {
    "duration": 3,
    "start_time": "2023-07-19T15:21:38.149Z"
   },
   {
    "duration": 118,
    "start_time": "2023-07-19T15:22:01.686Z"
   },
   {
    "duration": 6,
    "start_time": "2023-07-19T15:22:52.985Z"
   },
   {
    "duration": 79,
    "start_time": "2023-07-19T15:24:59.092Z"
   },
   {
    "duration": 13,
    "start_time": "2023-07-19T15:34:05.808Z"
   },
   {
    "duration": 68,
    "start_time": "2023-07-19T15:34:51.683Z"
   },
   {
    "duration": 16,
    "start_time": "2023-07-19T15:36:17.311Z"
   },
   {
    "duration": 5,
    "start_time": "2023-07-19T15:36:48.495Z"
   },
   {
    "duration": 5,
    "start_time": "2023-07-19T15:37:39.062Z"
   },
   {
    "duration": 11,
    "start_time": "2023-07-19T15:37:46.373Z"
   },
   {
    "duration": 43,
    "start_time": "2023-07-19T15:53:05.402Z"
   },
   {
    "duration": 83,
    "start_time": "2023-07-19T16:03:36.392Z"
   },
   {
    "duration": 7,
    "start_time": "2023-07-19T16:05:16.668Z"
   },
   {
    "duration": 96,
    "start_time": "2023-07-19T16:05:35.490Z"
   },
   {
    "duration": 133,
    "start_time": "2023-07-19T16:08:08.286Z"
   },
   {
    "duration": 70,
    "start_time": "2023-07-19T16:15:04.988Z"
   },
   {
    "duration": 266,
    "start_time": "2023-07-19T16:15:19.657Z"
   },
   {
    "duration": 16,
    "start_time": "2023-07-19T16:15:52.162Z"
   },
   {
    "duration": 4,
    "start_time": "2023-07-19T16:15:57.090Z"
   },
   {
    "duration": 3,
    "start_time": "2023-07-19T16:16:07.304Z"
   },
   {
    "duration": 134,
    "start_time": "2023-07-19T16:16:50.261Z"
   },
   {
    "duration": 118,
    "start_time": "2023-07-19T16:16:58.302Z"
   },
   {
    "duration": 70,
    "start_time": "2023-07-19T16:17:49.710Z"
   },
   {
    "duration": 5,
    "start_time": "2023-07-19T16:17:55.264Z"
   },
   {
    "duration": 5,
    "start_time": "2023-07-19T16:18:30.104Z"
   },
   {
    "duration": 286,
    "start_time": "2023-07-19T16:19:41.116Z"
   },
   {
    "duration": 6,
    "start_time": "2023-07-19T16:20:07.390Z"
   },
   {
    "duration": 6,
    "start_time": "2023-07-19T16:20:23.351Z"
   },
   {
    "duration": 4,
    "start_time": "2023-07-19T16:24:51.995Z"
   },
   {
    "duration": 4,
    "start_time": "2023-07-19T16:24:52.995Z"
   },
   {
    "duration": 4,
    "start_time": "2023-07-19T16:27:34.993Z"
   },
   {
    "duration": 4,
    "start_time": "2023-07-19T16:28:29.165Z"
   },
   {
    "duration": 1313,
    "start_time": "2023-07-19T16:29:00.196Z"
   },
   {
    "duration": 22,
    "start_time": "2023-07-19T16:29:21.599Z"
   },
   {
    "duration": 4,
    "start_time": "2023-07-19T16:29:51.173Z"
   },
   {
    "duration": 227,
    "start_time": "2023-07-19T16:29:59.011Z"
   },
   {
    "duration": 4,
    "start_time": "2023-07-19T16:30:37.411Z"
   },
   {
    "duration": 226,
    "start_time": "2023-07-19T16:30:39.241Z"
   },
   {
    "duration": 5,
    "start_time": "2023-07-19T16:32:08.989Z"
   },
   {
    "duration": 473,
    "start_time": "2023-07-19T16:32:09.919Z"
   },
   {
    "duration": 6,
    "start_time": "2023-07-19T16:34:38.300Z"
   },
   {
    "duration": 826,
    "start_time": "2023-07-19T16:34:41.164Z"
   },
   {
    "duration": 9,
    "start_time": "2023-07-19T16:37:36.211Z"
   },
   {
    "duration": 194,
    "start_time": "2023-07-19T16:37:37.750Z"
   },
   {
    "duration": 10,
    "start_time": "2023-07-19T16:38:26.077Z"
   },
   {
    "duration": 199,
    "start_time": "2023-07-19T16:38:27.507Z"
   },
   {
    "duration": 7,
    "start_time": "2023-07-19T16:38:48.101Z"
   },
   {
    "duration": 195,
    "start_time": "2023-07-19T16:38:48.995Z"
   },
   {
    "duration": 114,
    "start_time": "2023-07-19T16:39:06.202Z"
   },
   {
    "duration": 432,
    "start_time": "2023-07-19T16:39:07.004Z"
   },
   {
    "duration": 6,
    "start_time": "2023-07-19T16:39:26.600Z"
   },
   {
    "duration": 680,
    "start_time": "2023-07-19T16:39:27.132Z"
   },
   {
    "duration": 6,
    "start_time": "2023-07-19T16:39:56.936Z"
   },
   {
    "duration": 939,
    "start_time": "2023-07-19T16:39:57.652Z"
   },
   {
    "duration": 10,
    "start_time": "2023-07-19T16:44:11.440Z"
   },
   {
    "duration": 2235,
    "start_time": "2023-07-19T16:44:12.705Z"
   },
   {
    "duration": 59,
    "start_time": "2023-07-19T16:54:36.970Z"
   },
   {
    "duration": 42,
    "start_time": "2023-07-19T16:55:32.046Z"
   },
   {
    "duration": 43,
    "start_time": "2023-07-19T16:55:56.821Z"
   },
   {
    "duration": 38,
    "start_time": "2023-07-19T16:56:13.473Z"
   },
   {
    "duration": 40,
    "start_time": "2023-07-19T16:56:21.538Z"
   },
   {
    "duration": 55,
    "start_time": "2023-07-19T21:20:41.818Z"
   },
   {
    "duration": 1702,
    "start_time": "2023-07-19T21:20:55.889Z"
   },
   {
    "duration": 80,
    "start_time": "2023-07-19T21:20:57.593Z"
   },
   {
    "duration": 3,
    "start_time": "2023-07-19T21:20:57.675Z"
   },
   {
    "duration": 28,
    "start_time": "2023-07-19T21:20:57.680Z"
   },
   {
    "duration": 3,
    "start_time": "2023-07-19T21:20:57.709Z"
   },
   {
    "duration": 8,
    "start_time": "2023-07-19T21:20:57.714Z"
   },
   {
    "duration": 15,
    "start_time": "2023-07-19T21:20:57.724Z"
   },
   {
    "duration": 3,
    "start_time": "2023-07-19T21:20:57.741Z"
   },
   {
    "duration": 21,
    "start_time": "2023-07-19T21:20:57.746Z"
   },
   {
    "duration": 56,
    "start_time": "2023-07-19T21:20:57.769Z"
   },
   {
    "duration": 124,
    "start_time": "2023-07-19T21:20:57.827Z"
   },
   {
    "duration": 5,
    "start_time": "2023-07-19T21:20:57.952Z"
   },
   {
    "duration": 18,
    "start_time": "2023-07-19T21:20:57.958Z"
   },
   {
    "duration": 21,
    "start_time": "2023-07-19T21:20:57.977Z"
   },
   {
    "duration": 21,
    "start_time": "2023-07-19T21:20:58.000Z"
   },
   {
    "duration": 17,
    "start_time": "2023-07-19T21:20:58.023Z"
   },
   {
    "duration": 1839,
    "start_time": "2023-07-19T21:20:58.042Z"
   },
   {
    "duration": 53,
    "start_time": "2023-07-19T21:20:59.883Z"
   },
   {
    "duration": 40,
    "start_time": "2023-07-19T21:20:59.939Z"
   },
   {
    "duration": 6,
    "start_time": "2023-07-19T21:20:59.980Z"
   },
   {
    "duration": 2385,
    "start_time": "2023-07-19T21:20:59.988Z"
   },
   {
    "duration": 4,
    "start_time": "2023-07-19T21:25:08.930Z"
   },
   {
    "duration": 585,
    "start_time": "2023-07-19T21:25:30.602Z"
   },
   {
    "duration": 1559,
    "start_time": "2023-07-19T21:26:02.404Z"
   },
   {
    "duration": 42,
    "start_time": "2023-07-19T21:26:03.965Z"
   },
   {
    "duration": 2,
    "start_time": "2023-07-19T21:26:04.009Z"
   },
   {
    "duration": 37,
    "start_time": "2023-07-19T21:26:04.013Z"
   },
   {
    "duration": 3,
    "start_time": "2023-07-19T21:26:04.052Z"
   },
   {
    "duration": 8,
    "start_time": "2023-07-19T21:26:04.057Z"
   },
   {
    "duration": 15,
    "start_time": "2023-07-19T21:26:04.067Z"
   },
   {
    "duration": 3,
    "start_time": "2023-07-19T21:26:04.083Z"
   },
   {
    "duration": 40,
    "start_time": "2023-07-19T21:26:04.087Z"
   },
   {
    "duration": 40,
    "start_time": "2023-07-19T21:26:04.130Z"
   },
   {
    "duration": 148,
    "start_time": "2023-07-19T21:26:04.172Z"
   },
   {
    "duration": 4,
    "start_time": "2023-07-19T21:26:04.322Z"
   },
   {
    "duration": 9,
    "start_time": "2023-07-19T21:26:04.328Z"
   },
   {
    "duration": 6,
    "start_time": "2023-07-19T21:26:04.339Z"
   },
   {
    "duration": 6,
    "start_time": "2023-07-19T21:26:04.346Z"
   },
   {
    "duration": 11,
    "start_time": "2023-07-19T21:26:04.353Z"
   },
   {
    "duration": 2090,
    "start_time": "2023-07-19T21:26:04.365Z"
   },
   {
    "duration": 34,
    "start_time": "2023-07-19T21:26:06.457Z"
   },
   {
    "duration": 56,
    "start_time": "2023-07-19T21:26:06.492Z"
   },
   {
    "duration": 5,
    "start_time": "2023-07-19T21:26:06.549Z"
   },
   {
    "duration": 730,
    "start_time": "2023-07-19T21:26:06.555Z"
   },
   {
    "duration": 0,
    "start_time": "2023-07-19T21:26:07.287Z"
   },
   {
    "duration": 4,
    "start_time": "2023-07-19T21:27:38.906Z"
   },
   {
    "duration": 756,
    "start_time": "2023-07-19T21:27:40.200Z"
   },
   {
    "duration": 6,
    "start_time": "2023-07-19T21:28:05.152Z"
   },
   {
    "duration": 552,
    "start_time": "2023-07-19T21:28:06.695Z"
   },
   {
    "duration": 1876,
    "start_time": "2023-07-20T07:02:35.812Z"
   },
   {
    "duration": 153,
    "start_time": "2023-07-20T07:04:35.571Z"
   },
   {
    "duration": 1726,
    "start_time": "2023-07-20T07:04:56.663Z"
   },
   {
    "duration": 100,
    "start_time": "2023-07-20T07:04:58.392Z"
   },
   {
    "duration": 4,
    "start_time": "2023-07-20T07:04:58.495Z"
   },
   {
    "duration": 44,
    "start_time": "2023-07-20T07:04:58.502Z"
   },
   {
    "duration": 5,
    "start_time": "2023-07-20T07:04:58.548Z"
   },
   {
    "duration": 33,
    "start_time": "2023-07-20T07:04:58.555Z"
   },
   {
    "duration": 28,
    "start_time": "2023-07-20T07:04:58.590Z"
   },
   {
    "duration": 5,
    "start_time": "2023-07-20T07:04:58.620Z"
   },
   {
    "duration": 55,
    "start_time": "2023-07-20T07:04:58.626Z"
   },
   {
    "duration": 59,
    "start_time": "2023-07-20T07:04:58.684Z"
   },
   {
    "duration": 243,
    "start_time": "2023-07-20T07:04:58.745Z"
   },
   {
    "duration": 5,
    "start_time": "2023-07-20T07:04:58.990Z"
   },
   {
    "duration": 22,
    "start_time": "2023-07-20T07:04:58.997Z"
   },
   {
    "duration": 12,
    "start_time": "2023-07-20T07:04:59.021Z"
   },
   {
    "duration": 8,
    "start_time": "2023-07-20T07:04:59.035Z"
   },
   {
    "duration": 12,
    "start_time": "2023-07-20T07:04:59.045Z"
   },
   {
    "duration": 2369,
    "start_time": "2023-07-20T07:04:59.059Z"
   },
   {
    "duration": 52,
    "start_time": "2023-07-20T07:05:01.430Z"
   },
   {
    "duration": 76,
    "start_time": "2023-07-20T07:05:01.484Z"
   },
   {
    "duration": 158,
    "start_time": "2023-07-20T07:05:01.561Z"
   },
   {
    "duration": 0,
    "start_time": "2023-07-20T07:05:01.720Z"
   },
   {
    "duration": 0,
    "start_time": "2023-07-20T07:05:01.721Z"
   },
   {
    "duration": 3809,
    "start_time": "2023-07-20T07:06:00.741Z"
   },
   {
    "duration": 14,
    "start_time": "2023-07-20T07:06:06.349Z"
   },
   {
    "duration": 7,
    "start_time": "2023-07-20T07:14:09.731Z"
   },
   {
    "duration": 8,
    "start_time": "2023-07-20T07:16:16.913Z"
   },
   {
    "duration": 210,
    "start_time": "2023-07-20T07:17:36.804Z"
   },
   {
    "duration": 4,
    "start_time": "2023-07-20T07:17:52.779Z"
   },
   {
    "duration": 217,
    "start_time": "2023-07-20T07:19:32.277Z"
   },
   {
    "duration": 4,
    "start_time": "2023-07-20T07:19:45.959Z"
   },
   {
    "duration": 9,
    "start_time": "2023-07-20T07:20:01.656Z"
   },
   {
    "duration": 14,
    "start_time": "2023-07-20T07:20:23.172Z"
   },
   {
    "duration": 12,
    "start_time": "2023-07-20T07:22:37.066Z"
   },
   {
    "duration": 5,
    "start_time": "2023-07-20T07:23:00.192Z"
   },
   {
    "duration": 4,
    "start_time": "2023-07-20T07:23:06.979Z"
   },
   {
    "duration": 4,
    "start_time": "2023-07-20T07:23:23.709Z"
   },
   {
    "duration": 10,
    "start_time": "2023-07-20T07:23:43.495Z"
   },
   {
    "duration": 4,
    "start_time": "2023-07-20T07:25:43.064Z"
   },
   {
    "duration": 25,
    "start_time": "2023-07-20T07:25:49.826Z"
   },
   {
    "duration": 4,
    "start_time": "2023-07-20T07:25:51.628Z"
   },
   {
    "duration": 25,
    "start_time": "2023-07-20T07:25:52.986Z"
   },
   {
    "duration": 5,
    "start_time": "2023-07-20T07:27:08.793Z"
   },
   {
    "duration": 4,
    "start_time": "2023-07-20T07:27:10.840Z"
   },
   {
    "duration": 25,
    "start_time": "2023-07-20T07:27:11.234Z"
   },
   {
    "duration": 6,
    "start_time": "2023-07-20T07:28:11.011Z"
   },
   {
    "duration": 5,
    "start_time": "2023-07-20T07:28:15.448Z"
   },
   {
    "duration": 23,
    "start_time": "2023-07-20T07:28:16.059Z"
   },
   {
    "duration": 39,
    "start_time": "2023-07-20T07:29:14.643Z"
   },
   {
    "duration": 29,
    "start_time": "2023-07-20T07:29:35.386Z"
   },
   {
    "duration": 21,
    "start_time": "2023-07-20T07:30:01.412Z"
   },
   {
    "duration": 11,
    "start_time": "2023-07-20T07:30:11.934Z"
   },
   {
    "duration": 4,
    "start_time": "2023-07-20T07:31:43.525Z"
   },
   {
    "duration": 7,
    "start_time": "2023-07-20T07:35:02.468Z"
   },
   {
    "duration": 1017,
    "start_time": "2023-07-20T07:35:38.096Z"
   },
   {
    "duration": 2000,
    "start_time": "2023-07-20T07:35:58.993Z"
   },
   {
    "duration": 45,
    "start_time": "2023-07-20T07:36:00.996Z"
   },
   {
    "duration": 60,
    "start_time": "2023-07-20T07:36:01.043Z"
   },
   {
    "duration": 68,
    "start_time": "2023-07-20T07:36:01.106Z"
   },
   {
    "duration": 35,
    "start_time": "2023-07-20T07:36:01.176Z"
   },
   {
    "duration": 56,
    "start_time": "2023-07-20T07:36:01.213Z"
   },
   {
    "duration": 112,
    "start_time": "2023-07-20T07:36:01.270Z"
   },
   {
    "duration": 45,
    "start_time": "2023-07-20T07:36:01.383Z"
   },
   {
    "duration": 62,
    "start_time": "2023-07-20T07:36:01.430Z"
   },
   {
    "duration": 96,
    "start_time": "2023-07-20T07:36:01.494Z"
   },
   {
    "duration": 176,
    "start_time": "2023-07-20T07:36:01.592Z"
   },
   {
    "duration": 6,
    "start_time": "2023-07-20T07:36:01.770Z"
   },
   {
    "duration": 108,
    "start_time": "2023-07-20T07:36:01.778Z"
   },
   {
    "duration": 78,
    "start_time": "2023-07-20T07:36:01.888Z"
   },
   {
    "duration": 61,
    "start_time": "2023-07-20T07:36:01.968Z"
   },
   {
    "duration": 31,
    "start_time": "2023-07-20T07:36:02.031Z"
   },
   {
    "duration": 2228,
    "start_time": "2023-07-20T07:36:02.063Z"
   },
   {
    "duration": 40,
    "start_time": "2023-07-20T07:36:04.293Z"
   },
   {
    "duration": 50,
    "start_time": "2023-07-20T07:36:04.352Z"
   },
   {
    "duration": 4,
    "start_time": "2023-07-20T07:36:04.404Z"
   },
   {
    "duration": 19,
    "start_time": "2023-07-20T07:36:04.409Z"
   },
   {
    "duration": 34,
    "start_time": "2023-07-20T07:36:04.430Z"
   },
   {
    "duration": 38,
    "start_time": "2023-07-20T07:36:04.466Z"
   },
   {
    "duration": 10,
    "start_time": "2023-07-20T07:36:04.506Z"
   },
   {
    "duration": 2753,
    "start_time": "2023-07-20T07:36:04.518Z"
   },
   {
    "duration": 0,
    "start_time": "2023-07-20T07:36:07.274Z"
   },
   {
    "duration": 0,
    "start_time": "2023-07-20T07:36:07.276Z"
   },
   {
    "duration": 0,
    "start_time": "2023-07-20T07:36:07.277Z"
   },
   {
    "duration": 5,
    "start_time": "2023-07-20T07:36:45.615Z"
   },
   {
    "duration": 38,
    "start_time": "2023-07-20T07:36:46.241Z"
   },
   {
    "duration": 4,
    "start_time": "2023-07-20T07:38:05.276Z"
   },
   {
    "duration": 32,
    "start_time": "2023-07-20T07:38:07.166Z"
   },
   {
    "duration": 5,
    "start_time": "2023-07-20T07:44:44.610Z"
   },
   {
    "duration": 35,
    "start_time": "2023-07-20T07:44:45.356Z"
   },
   {
    "duration": 6,
    "start_time": "2023-07-20T07:47:59.718Z"
   },
   {
    "duration": 31,
    "start_time": "2023-07-20T07:48:00.613Z"
   },
   {
    "duration": 6,
    "start_time": "2023-07-20T07:49:56.070Z"
   },
   {
    "duration": 30,
    "start_time": "2023-07-20T07:49:57.196Z"
   },
   {
    "duration": 5,
    "start_time": "2023-07-20T07:53:41.440Z"
   },
   {
    "duration": 16,
    "start_time": "2023-07-20T07:53:42.239Z"
   },
   {
    "duration": 10,
    "start_time": "2023-07-20T07:53:55.304Z"
   },
   {
    "duration": 26,
    "start_time": "2023-07-20T07:53:55.919Z"
   },
   {
    "duration": 5,
    "start_time": "2023-07-20T07:54:21.201Z"
   },
   {
    "duration": 28,
    "start_time": "2023-07-20T07:54:21.876Z"
   },
   {
    "duration": 6,
    "start_time": "2023-07-20T07:55:23.919Z"
   },
   {
    "duration": 31,
    "start_time": "2023-07-20T07:55:24.366Z"
   },
   {
    "duration": 146,
    "start_time": "2023-07-20T08:01:49.605Z"
   },
   {
    "duration": 41,
    "start_time": "2023-07-20T08:01:50.179Z"
   },
   {
    "duration": 283,
    "start_time": "2023-07-20T08:02:35.861Z"
   },
   {
    "duration": 5,
    "start_time": "2023-07-20T08:03:16.814Z"
   },
   {
    "duration": 27,
    "start_time": "2023-07-20T08:03:17.938Z"
   },
   {
    "duration": 5,
    "start_time": "2023-07-20T08:04:41.364Z"
   },
   {
    "duration": 4,
    "start_time": "2023-07-20T08:04:41.537Z"
   },
   {
    "duration": 22,
    "start_time": "2023-07-20T08:05:12.052Z"
   },
   {
    "duration": 23,
    "start_time": "2023-07-20T08:05:35.884Z"
   },
   {
    "duration": 21,
    "start_time": "2023-07-20T08:06:29.287Z"
   },
   {
    "duration": 23,
    "start_time": "2023-07-20T08:06:30.864Z"
   },
   {
    "duration": 10,
    "start_time": "2023-07-20T08:06:46.675Z"
   },
   {
    "duration": 28,
    "start_time": "2023-07-20T08:07:02.648Z"
   },
   {
    "duration": 4,
    "start_time": "2023-07-20T08:11:17.139Z"
   },
   {
    "duration": 249,
    "start_time": "2023-07-20T08:17:01.476Z"
   },
   {
    "duration": 5,
    "start_time": "2023-07-20T08:17:19.237Z"
   },
   {
    "duration": 156,
    "start_time": "2023-07-20T08:20:48.509Z"
   },
   {
    "duration": 10,
    "start_time": "2023-07-20T08:21:09.301Z"
   },
   {
    "duration": 5,
    "start_time": "2023-07-20T08:21:21.758Z"
   },
   {
    "duration": 11,
    "start_time": "2023-07-20T08:22:20.363Z"
   },
   {
    "duration": 4,
    "start_time": "2023-07-20T08:22:34.912Z"
   },
   {
    "duration": 8,
    "start_time": "2023-07-20T08:23:22.901Z"
   },
   {
    "duration": 5,
    "start_time": "2023-07-20T08:23:37.760Z"
   },
   {
    "duration": 2010,
    "start_time": "2023-07-20T08:25:16.090Z"
   },
   {
    "duration": 4,
    "start_time": "2023-07-20T08:27:23.172Z"
   },
   {
    "duration": 217,
    "start_time": "2023-07-20T08:28:41.268Z"
   },
   {
    "duration": 5,
    "start_time": "2023-07-20T08:28:48.263Z"
   },
   {
    "duration": 3,
    "start_time": "2023-07-20T08:29:11.480Z"
   },
   {
    "duration": 4,
    "start_time": "2023-07-20T08:29:27.882Z"
   },
   {
    "duration": 170,
    "start_time": "2023-07-20T08:39:52.540Z"
   },
   {
    "duration": 11,
    "start_time": "2023-07-20T08:41:04.194Z"
   },
   {
    "duration": 4,
    "start_time": "2023-07-20T08:41:08.831Z"
   },
   {
    "duration": 4,
    "start_time": "2023-07-20T08:42:13.027Z"
   },
   {
    "duration": 3,
    "start_time": "2023-07-20T08:43:11.032Z"
   },
   {
    "duration": 17,
    "start_time": "2023-07-20T08:44:40.504Z"
   },
   {
    "duration": 282,
    "start_time": "2023-07-20T08:47:16.054Z"
   },
   {
    "duration": 3,
    "start_time": "2023-07-20T08:49:40.934Z"
   },
   {
    "duration": 4,
    "start_time": "2023-07-20T08:53:26.295Z"
   },
   {
    "duration": 4,
    "start_time": "2023-07-20T08:54:29.130Z"
   },
   {
    "duration": 3,
    "start_time": "2023-07-20T08:55:31.705Z"
   },
   {
    "duration": 18,
    "start_time": "2023-07-20T08:55:50.146Z"
   },
   {
    "duration": 4,
    "start_time": "2023-07-20T08:57:04.857Z"
   },
   {
    "duration": 11,
    "start_time": "2023-07-20T08:57:05.626Z"
   },
   {
    "duration": 3,
    "start_time": "2023-07-20T08:58:05.811Z"
   },
   {
    "duration": 10,
    "start_time": "2023-07-20T08:58:06.218Z"
   },
   {
    "duration": 9,
    "start_time": "2023-07-20T09:12:04.854Z"
   },
   {
    "duration": 4,
    "start_time": "2023-07-20T09:12:08.537Z"
   },
   {
    "duration": 201,
    "start_time": "2023-07-20T09:13:18.960Z"
   },
   {
    "duration": 4,
    "start_time": "2023-07-20T09:14:37.121Z"
   },
   {
    "duration": 10,
    "start_time": "2023-07-20T09:19:09.644Z"
   },
   {
    "duration": 1597,
    "start_time": "2023-07-20T09:19:17.655Z"
   },
   {
    "duration": 46,
    "start_time": "2023-07-20T09:19:19.255Z"
   },
   {
    "duration": 3,
    "start_time": "2023-07-20T09:19:19.303Z"
   },
   {
    "duration": 71,
    "start_time": "2023-07-20T09:19:19.307Z"
   },
   {
    "duration": 10,
    "start_time": "2023-07-20T09:19:19.380Z"
   },
   {
    "duration": 20,
    "start_time": "2023-07-20T09:19:19.391Z"
   },
   {
    "duration": 18,
    "start_time": "2023-07-20T09:19:19.413Z"
   },
   {
    "duration": 4,
    "start_time": "2023-07-20T09:19:19.433Z"
   },
   {
    "duration": 11,
    "start_time": "2023-07-20T09:19:19.454Z"
   },
   {
    "duration": 42,
    "start_time": "2023-07-20T09:19:19.468Z"
   },
   {
    "duration": 186,
    "start_time": "2023-07-20T09:19:19.512Z"
   },
   {
    "duration": 9,
    "start_time": "2023-07-20T09:19:19.699Z"
   },
   {
    "duration": 11,
    "start_time": "2023-07-20T09:19:19.710Z"
   },
   {
    "duration": 11,
    "start_time": "2023-07-20T09:19:19.722Z"
   },
   {
    "duration": 20,
    "start_time": "2023-07-20T09:19:19.734Z"
   },
   {
    "duration": 2179,
    "start_time": "2023-07-20T09:19:19.756Z"
   },
   {
    "duration": 45,
    "start_time": "2023-07-20T09:19:21.937Z"
   },
   {
    "duration": 49,
    "start_time": "2023-07-20T09:19:21.984Z"
   },
   {
    "duration": 4,
    "start_time": "2023-07-20T09:19:22.052Z"
   },
   {
    "duration": 13,
    "start_time": "2023-07-20T09:19:22.059Z"
   },
   {
    "duration": 12,
    "start_time": "2023-07-20T09:19:22.074Z"
   },
   {
    "duration": 15,
    "start_time": "2023-07-20T09:19:22.088Z"
   },
   {
    "duration": 52,
    "start_time": "2023-07-20T09:19:22.105Z"
   },
   {
    "duration": 14,
    "start_time": "2023-07-20T09:19:22.159Z"
   },
   {
    "duration": 11,
    "start_time": "2023-07-20T09:19:22.175Z"
   },
   {
    "duration": 13,
    "start_time": "2023-07-20T09:19:22.188Z"
   },
   {
    "duration": 17,
    "start_time": "2023-07-20T09:19:22.203Z"
   },
   {
    "duration": 1975,
    "start_time": "2023-07-20T09:19:22.224Z"
   },
   {
    "duration": 4,
    "start_time": "2023-07-20T09:19:24.200Z"
   },
   {
    "duration": 15,
    "start_time": "2023-07-20T09:19:24.206Z"
   },
   {
    "duration": 15,
    "start_time": "2023-07-20T09:19:24.223Z"
   },
   {
    "duration": 13,
    "start_time": "2023-07-20T09:19:24.240Z"
   },
   {
    "duration": 3,
    "start_time": "2023-07-20T09:19:24.255Z"
   },
   {
    "duration": 16,
    "start_time": "2023-07-20T09:19:24.260Z"
   },
   {
    "duration": 9,
    "start_time": "2023-07-20T09:19:24.278Z"
   },
   {
    "duration": 27,
    "start_time": "2023-07-20T09:19:24.288Z"
   },
   {
    "duration": 4,
    "start_time": "2023-07-20T09:19:24.316Z"
   },
   {
    "duration": 14,
    "start_time": "2023-07-20T09:19:24.322Z"
   },
   {
    "duration": 16,
    "start_time": "2023-07-20T09:19:24.337Z"
   },
   {
    "duration": 11,
    "start_time": "2023-07-20T09:19:24.354Z"
   },
   {
    "duration": 798,
    "start_time": "2023-07-20T09:19:55.292Z"
   },
   {
    "duration": 12,
    "start_time": "2023-07-20T09:20:11.604Z"
   },
   {
    "duration": 131,
    "start_time": "2023-07-20T09:26:46.689Z"
   },
   {
    "duration": 14,
    "start_time": "2023-07-20T09:53:27.091Z"
   },
   {
    "duration": 14,
    "start_time": "2023-07-20T10:15:44.136Z"
   },
   {
    "duration": 12,
    "start_time": "2023-07-20T10:16:14.914Z"
   },
   {
    "duration": 284,
    "start_time": "2023-07-20T10:16:35.613Z"
   },
   {
    "duration": 265,
    "start_time": "2023-07-20T10:17:53.144Z"
   },
   {
    "duration": 1549,
    "start_time": "2023-07-20T10:18:03.931Z"
   },
   {
    "duration": 40,
    "start_time": "2023-07-20T10:18:05.482Z"
   },
   {
    "duration": 4,
    "start_time": "2023-07-20T10:18:05.524Z"
   },
   {
    "duration": 34,
    "start_time": "2023-07-20T10:18:05.531Z"
   },
   {
    "duration": 3,
    "start_time": "2023-07-20T10:18:05.567Z"
   },
   {
    "duration": 35,
    "start_time": "2023-07-20T10:18:05.572Z"
   },
   {
    "duration": 108,
    "start_time": "2023-07-20T10:18:05.609Z"
   },
   {
    "duration": 43,
    "start_time": "2023-07-20T10:18:05.719Z"
   },
   {
    "duration": 34,
    "start_time": "2023-07-20T10:18:05.764Z"
   },
   {
    "duration": 39,
    "start_time": "2023-07-20T10:18:05.800Z"
   },
   {
    "duration": 120,
    "start_time": "2023-07-20T10:18:05.840Z"
   },
   {
    "duration": 9,
    "start_time": "2023-07-20T10:18:05.961Z"
   },
   {
    "duration": 11,
    "start_time": "2023-07-20T10:18:05.971Z"
   },
   {
    "duration": 7,
    "start_time": "2023-07-20T10:18:05.984Z"
   },
   {
    "duration": 10,
    "start_time": "2023-07-20T10:18:05.993Z"
   },
   {
    "duration": 2062,
    "start_time": "2023-07-20T10:18:06.004Z"
   },
   {
    "duration": 42,
    "start_time": "2023-07-20T10:18:08.068Z"
   },
   {
    "duration": 56,
    "start_time": "2023-07-20T10:18:08.112Z"
   },
   {
    "duration": 4,
    "start_time": "2023-07-20T10:18:08.170Z"
   },
   {
    "duration": 13,
    "start_time": "2023-07-20T10:18:08.175Z"
   },
   {
    "duration": 14,
    "start_time": "2023-07-20T10:18:08.189Z"
   },
   {
    "duration": 11,
    "start_time": "2023-07-20T10:18:08.204Z"
   },
   {
    "duration": 62,
    "start_time": "2023-07-20T10:18:08.216Z"
   },
   {
    "duration": 15,
    "start_time": "2023-07-20T10:18:08.280Z"
   },
   {
    "duration": 5,
    "start_time": "2023-07-20T10:18:08.298Z"
   },
   {
    "duration": 16,
    "start_time": "2023-07-20T10:18:08.305Z"
   },
   {
    "duration": 43,
    "start_time": "2023-07-20T10:18:08.323Z"
   },
   {
    "duration": 1967,
    "start_time": "2023-07-20T10:18:08.371Z"
   },
   {
    "duration": 3,
    "start_time": "2023-07-20T10:18:10.340Z"
   },
   {
    "duration": 6,
    "start_time": "2023-07-20T10:18:10.352Z"
   },
   {
    "duration": 14,
    "start_time": "2023-07-20T10:18:10.360Z"
   },
   {
    "duration": 5,
    "start_time": "2023-07-20T10:18:10.376Z"
   },
   {
    "duration": 7,
    "start_time": "2023-07-20T10:18:10.382Z"
   },
   {
    "duration": 6,
    "start_time": "2023-07-20T10:18:10.391Z"
   },
   {
    "duration": 8,
    "start_time": "2023-07-20T10:18:10.399Z"
   },
   {
    "duration": 34,
    "start_time": "2023-07-20T10:18:10.408Z"
   },
   {
    "duration": 9,
    "start_time": "2023-07-20T10:18:10.444Z"
   },
   {
    "duration": 19,
    "start_time": "2023-07-20T10:18:10.455Z"
   },
   {
    "duration": 8,
    "start_time": "2023-07-20T10:18:10.476Z"
   },
   {
    "duration": 18,
    "start_time": "2023-07-20T10:18:10.486Z"
   },
   {
    "duration": 293,
    "start_time": "2023-07-20T10:18:10.506Z"
   },
   {
    "duration": 44734,
    "start_time": "2023-07-20T10:21:52.944Z"
   },
   {
    "duration": 279,
    "start_time": "2023-07-20T10:23:07.677Z"
   },
   {
    "duration": 273,
    "start_time": "2023-07-20T10:23:13.549Z"
   },
   {
    "duration": 1686,
    "start_time": "2023-07-20T10:25:14.215Z"
   },
   {
    "duration": 43,
    "start_time": "2023-07-20T10:25:15.903Z"
   },
   {
    "duration": 4,
    "start_time": "2023-07-20T10:25:15.948Z"
   },
   {
    "duration": 33,
    "start_time": "2023-07-20T10:25:15.954Z"
   },
   {
    "duration": 4,
    "start_time": "2023-07-20T10:25:15.989Z"
   },
   {
    "duration": 16,
    "start_time": "2023-07-20T10:25:15.994Z"
   },
   {
    "duration": 20,
    "start_time": "2023-07-20T10:25:16.012Z"
   },
   {
    "duration": 4,
    "start_time": "2023-07-20T10:25:16.052Z"
   },
   {
    "duration": 14,
    "start_time": "2023-07-20T10:25:16.058Z"
   },
   {
    "duration": 43,
    "start_time": "2023-07-20T10:25:16.076Z"
   },
   {
    "duration": 153,
    "start_time": "2023-07-20T10:25:16.121Z"
   },
   {
    "duration": 10,
    "start_time": "2023-07-20T10:25:16.276Z"
   },
   {
    "duration": 9,
    "start_time": "2023-07-20T10:25:16.288Z"
   },
   {
    "duration": 6,
    "start_time": "2023-07-20T10:25:16.299Z"
   },
   {
    "duration": 11,
    "start_time": "2023-07-20T10:25:16.307Z"
   },
   {
    "duration": 2257,
    "start_time": "2023-07-20T10:25:16.319Z"
   },
   {
    "duration": 38,
    "start_time": "2023-07-20T10:25:18.578Z"
   },
   {
    "duration": 61,
    "start_time": "2023-07-20T10:25:18.618Z"
   },
   {
    "duration": 5,
    "start_time": "2023-07-20T10:25:18.681Z"
   },
   {
    "duration": 18,
    "start_time": "2023-07-20T10:25:18.689Z"
   },
   {
    "duration": 19,
    "start_time": "2023-07-20T10:25:18.709Z"
   },
   {
    "duration": 12,
    "start_time": "2023-07-20T10:25:18.730Z"
   },
   {
    "duration": 71,
    "start_time": "2023-07-20T10:25:18.744Z"
   },
   {
    "duration": 20,
    "start_time": "2023-07-20T10:25:18.817Z"
   },
   {
    "duration": 16,
    "start_time": "2023-07-20T10:25:18.839Z"
   },
   {
    "duration": 24,
    "start_time": "2023-07-20T10:25:18.858Z"
   },
   {
    "duration": 23,
    "start_time": "2023-07-20T10:25:18.885Z"
   },
   {
    "duration": 2031,
    "start_time": "2023-07-20T10:25:18.913Z"
   },
   {
    "duration": 4,
    "start_time": "2023-07-20T10:25:20.952Z"
   },
   {
    "duration": 18,
    "start_time": "2023-07-20T10:25:20.957Z"
   },
   {
    "duration": 10,
    "start_time": "2023-07-20T10:25:20.977Z"
   },
   {
    "duration": 14,
    "start_time": "2023-07-20T10:25:20.989Z"
   },
   {
    "duration": 10,
    "start_time": "2023-07-20T10:25:21.005Z"
   },
   {
    "duration": 11,
    "start_time": "2023-07-20T10:25:21.017Z"
   },
   {
    "duration": 22,
    "start_time": "2023-07-20T10:25:21.030Z"
   },
   {
    "duration": 21,
    "start_time": "2023-07-20T10:25:21.054Z"
   },
   {
    "duration": 3,
    "start_time": "2023-07-20T10:25:21.076Z"
   },
   {
    "duration": 24,
    "start_time": "2023-07-20T10:25:21.080Z"
   },
   {
    "duration": 12,
    "start_time": "2023-07-20T10:25:21.106Z"
   },
   {
    "duration": 24,
    "start_time": "2023-07-20T10:25:21.120Z"
   },
   {
    "duration": 141,
    "start_time": "2023-07-20T10:25:21.146Z"
   },
   {
    "duration": 0,
    "start_time": "2023-07-20T10:25:21.289Z"
   },
   {
    "duration": 0,
    "start_time": "2023-07-20T10:25:21.290Z"
   },
   {
    "duration": 210,
    "start_time": "2023-07-20T10:26:05.708Z"
   },
   {
    "duration": 6,
    "start_time": "2023-07-20T10:26:12.004Z"
   },
   {
    "duration": 2894,
    "start_time": "2023-07-20T10:26:21.869Z"
   },
   {
    "duration": 49,
    "start_time": "2023-07-20T10:26:24.766Z"
   },
   {
    "duration": 10,
    "start_time": "2023-07-20T10:26:24.817Z"
   },
   {
    "duration": 62,
    "start_time": "2023-07-20T10:26:24.830Z"
   },
   {
    "duration": 108,
    "start_time": "2023-07-20T10:26:24.894Z"
   },
   {
    "duration": 77,
    "start_time": "2023-07-20T10:26:25.004Z"
   },
   {
    "duration": 140,
    "start_time": "2023-07-20T10:26:25.083Z"
   },
   {
    "duration": 92,
    "start_time": "2023-07-20T10:26:25.226Z"
   },
   {
    "duration": 152,
    "start_time": "2023-07-20T10:26:25.320Z"
   },
   {
    "duration": 66,
    "start_time": "2023-07-20T10:26:25.476Z"
   },
   {
    "duration": 191,
    "start_time": "2023-07-20T10:26:25.543Z"
   },
   {
    "duration": 16,
    "start_time": "2023-07-20T10:26:25.736Z"
   },
   {
    "duration": 52,
    "start_time": "2023-07-20T10:26:25.754Z"
   },
   {
    "duration": 75,
    "start_time": "2023-07-20T10:26:25.808Z"
   },
   {
    "duration": 45,
    "start_time": "2023-07-20T10:26:25.886Z"
   },
   {
    "duration": 2558,
    "start_time": "2023-07-20T10:26:25.934Z"
   },
   {
    "duration": 69,
    "start_time": "2023-07-20T10:26:28.496Z"
   },
   {
    "duration": 51,
    "start_time": "2023-07-20T10:26:28.567Z"
   },
   {
    "duration": 5,
    "start_time": "2023-07-20T10:26:28.620Z"
   },
   {
    "duration": 7,
    "start_time": "2023-07-20T10:26:28.652Z"
   },
   {
    "duration": 48,
    "start_time": "2023-07-20T10:26:28.661Z"
   },
   {
    "duration": 78,
    "start_time": "2023-07-20T10:26:28.712Z"
   },
   {
    "duration": 118,
    "start_time": "2023-07-20T10:26:28.793Z"
   },
   {
    "duration": 16,
    "start_time": "2023-07-20T10:26:28.914Z"
   },
   {
    "duration": 58,
    "start_time": "2023-07-20T10:26:28.932Z"
   },
   {
    "duration": 19,
    "start_time": "2023-07-20T10:26:28.992Z"
   },
   {
    "duration": 123,
    "start_time": "2023-07-20T10:26:29.013Z"
   },
   {
    "duration": 2282,
    "start_time": "2023-07-20T10:26:29.140Z"
   },
   {
    "duration": 10,
    "start_time": "2023-07-20T10:26:31.425Z"
   },
   {
    "duration": 165,
    "start_time": "2023-07-20T10:26:31.438Z"
   },
   {
    "duration": 666,
    "start_time": "2023-07-20T10:26:31.606Z"
   },
   {
    "duration": 170,
    "start_time": "2023-07-20T10:26:32.274Z"
   },
   {
    "duration": 305,
    "start_time": "2023-07-20T10:26:32.447Z"
   },
   {
    "duration": 138,
    "start_time": "2023-07-20T10:26:32.754Z"
   },
   {
    "duration": 174,
    "start_time": "2023-07-20T10:26:32.894Z"
   },
   {
    "duration": 55,
    "start_time": "2023-07-20T10:26:33.070Z"
   },
   {
    "duration": 76,
    "start_time": "2023-07-20T10:26:33.128Z"
   },
   {
    "duration": 37,
    "start_time": "2023-07-20T10:26:33.206Z"
   },
   {
    "duration": 35,
    "start_time": "2023-07-20T10:26:33.245Z"
   },
   {
    "duration": 45,
    "start_time": "2023-07-20T10:26:33.281Z"
   },
   {
    "duration": 14,
    "start_time": "2023-07-20T10:26:33.329Z"
   },
   {
    "duration": 330,
    "start_time": "2023-07-20T10:26:33.345Z"
   },
   {
    "duration": 88481,
    "start_time": "2023-07-20T10:26:33.677Z"
   },
   {
    "duration": 377,
    "start_time": "2023-07-20T10:28:02.163Z"
   },
   {
    "duration": 1783,
    "start_time": "2023-07-20T10:32:07.698Z"
   },
   {
    "duration": 43,
    "start_time": "2023-07-20T10:32:09.482Z"
   },
   {
    "duration": 3,
    "start_time": "2023-07-20T10:32:09.527Z"
   },
   {
    "duration": 34,
    "start_time": "2023-07-20T10:32:09.532Z"
   },
   {
    "duration": 4,
    "start_time": "2023-07-20T10:32:09.568Z"
   },
   {
    "duration": 23,
    "start_time": "2023-07-20T10:32:09.573Z"
   },
   {
    "duration": 16,
    "start_time": "2023-07-20T10:32:09.597Z"
   },
   {
    "duration": 5,
    "start_time": "2023-07-20T10:32:09.615Z"
   },
   {
    "duration": 32,
    "start_time": "2023-07-20T10:32:09.621Z"
   },
   {
    "duration": 46,
    "start_time": "2023-07-20T10:32:09.655Z"
   },
   {
    "duration": 151,
    "start_time": "2023-07-20T10:32:09.703Z"
   },
   {
    "duration": 10,
    "start_time": "2023-07-20T10:32:09.856Z"
   },
   {
    "duration": 47,
    "start_time": "2023-07-20T10:32:09.867Z"
   },
   {
    "duration": 96,
    "start_time": "2023-07-20T10:32:09.916Z"
   },
   {
    "duration": 34,
    "start_time": "2023-07-20T10:32:10.014Z"
   },
   {
    "duration": 2204,
    "start_time": "2023-07-20T10:32:10.050Z"
   },
   {
    "duration": 41,
    "start_time": "2023-07-20T10:32:12.256Z"
   },
   {
    "duration": 62,
    "start_time": "2023-07-20T10:32:12.299Z"
   },
   {
    "duration": 4,
    "start_time": "2023-07-20T10:32:12.362Z"
   },
   {
    "duration": 7,
    "start_time": "2023-07-20T10:32:12.368Z"
   },
   {
    "duration": 17,
    "start_time": "2023-07-20T10:32:12.376Z"
   },
   {
    "duration": 10,
    "start_time": "2023-07-20T10:32:12.395Z"
   },
   {
    "duration": 46,
    "start_time": "2023-07-20T10:32:12.406Z"
   },
   {
    "duration": 15,
    "start_time": "2023-07-20T10:32:12.454Z"
   },
   {
    "duration": 8,
    "start_time": "2023-07-20T10:32:12.471Z"
   },
   {
    "duration": 12,
    "start_time": "2023-07-20T10:32:12.480Z"
   },
   {
    "duration": 15,
    "start_time": "2023-07-20T10:32:12.494Z"
   },
   {
    "duration": 2080,
    "start_time": "2023-07-20T10:32:12.512Z"
   },
   {
    "duration": 4,
    "start_time": "2023-07-20T10:32:14.593Z"
   },
   {
    "duration": 15,
    "start_time": "2023-07-20T10:32:14.598Z"
   },
   {
    "duration": 17,
    "start_time": "2023-07-20T10:32:14.614Z"
   },
   {
    "duration": 22,
    "start_time": "2023-07-20T10:32:14.632Z"
   },
   {
    "duration": 11,
    "start_time": "2023-07-20T10:32:14.656Z"
   },
   {
    "duration": 11,
    "start_time": "2023-07-20T10:32:14.669Z"
   },
   {
    "duration": 12,
    "start_time": "2023-07-20T10:32:14.682Z"
   },
   {
    "duration": 27,
    "start_time": "2023-07-20T10:32:14.696Z"
   },
   {
    "duration": 3,
    "start_time": "2023-07-20T10:32:14.725Z"
   },
   {
    "duration": 13,
    "start_time": "2023-07-20T10:32:14.729Z"
   },
   {
    "duration": 15,
    "start_time": "2023-07-20T10:32:14.743Z"
   },
   {
    "duration": 19,
    "start_time": "2023-07-20T10:32:14.760Z"
   },
   {
    "duration": 6,
    "start_time": "2023-07-20T10:32:14.781Z"
   },
   {
    "duration": 303,
    "start_time": "2023-07-20T10:32:14.789Z"
   },
   {
    "duration": 87958,
    "start_time": "2023-07-20T10:32:15.094Z"
   },
   {
    "duration": 6,
    "start_time": "2023-07-20T10:43:10.907Z"
   },
   {
    "duration": 3,
    "start_time": "2023-07-20T10:44:28.612Z"
   },
   {
    "duration": 696,
    "start_time": "2023-07-20T10:49:29.948Z"
   },
   {
    "duration": 1806,
    "start_time": "2023-07-20T10:50:05.163Z"
   },
   {
    "duration": 42,
    "start_time": "2023-07-20T10:50:06.971Z"
   },
   {
    "duration": 4,
    "start_time": "2023-07-20T10:50:07.015Z"
   },
   {
    "duration": 70,
    "start_time": "2023-07-20T10:50:07.021Z"
   },
   {
    "duration": 9,
    "start_time": "2023-07-20T10:50:07.093Z"
   },
   {
    "duration": 29,
    "start_time": "2023-07-20T10:50:07.104Z"
   },
   {
    "duration": 37,
    "start_time": "2023-07-20T10:50:07.134Z"
   },
   {
    "duration": 5,
    "start_time": "2023-07-20T10:50:07.173Z"
   },
   {
    "duration": 46,
    "start_time": "2023-07-20T10:50:07.179Z"
   },
   {
    "duration": 67,
    "start_time": "2023-07-20T10:50:07.227Z"
   },
   {
    "duration": 160,
    "start_time": "2023-07-20T10:50:07.296Z"
   },
   {
    "duration": 9,
    "start_time": "2023-07-20T10:50:07.458Z"
   },
   {
    "duration": 24,
    "start_time": "2023-07-20T10:50:07.468Z"
   },
   {
    "duration": 28,
    "start_time": "2023-07-20T10:50:07.496Z"
   },
   {
    "duration": 14,
    "start_time": "2023-07-20T10:50:07.526Z"
   },
   {
    "duration": 2337,
    "start_time": "2023-07-20T10:50:07.542Z"
   },
   {
    "duration": 38,
    "start_time": "2023-07-20T10:50:09.881Z"
   },
   {
    "duration": 66,
    "start_time": "2023-07-20T10:50:09.921Z"
   },
   {
    "duration": 4,
    "start_time": "2023-07-20T10:50:09.989Z"
   },
   {
    "duration": 16,
    "start_time": "2023-07-20T10:50:09.995Z"
   },
   {
    "duration": 18,
    "start_time": "2023-07-20T10:50:10.013Z"
   },
   {
    "duration": 23,
    "start_time": "2023-07-20T10:50:10.034Z"
   },
   {
    "duration": 56,
    "start_time": "2023-07-20T10:50:10.059Z"
   },
   {
    "duration": 15,
    "start_time": "2023-07-20T10:50:10.117Z"
   },
   {
    "duration": 5,
    "start_time": "2023-07-20T10:50:10.133Z"
   },
   {
    "duration": 16,
    "start_time": "2023-07-20T10:50:10.140Z"
   },
   {
    "duration": 19,
    "start_time": "2023-07-20T10:50:10.158Z"
   },
   {
    "duration": 2131,
    "start_time": "2023-07-20T10:50:10.179Z"
   },
   {
    "duration": 4,
    "start_time": "2023-07-20T10:50:12.312Z"
   },
   {
    "duration": 19,
    "start_time": "2023-07-20T10:50:12.318Z"
   },
   {
    "duration": 21,
    "start_time": "2023-07-20T10:50:12.339Z"
   },
   {
    "duration": 16,
    "start_time": "2023-07-20T10:50:12.362Z"
   },
   {
    "duration": 22,
    "start_time": "2023-07-20T10:50:12.381Z"
   },
   {
    "duration": 12,
    "start_time": "2023-07-20T10:50:12.405Z"
   },
   {
    "duration": 30,
    "start_time": "2023-07-20T10:50:12.420Z"
   },
   {
    "duration": 24,
    "start_time": "2023-07-20T10:50:12.453Z"
   },
   {
    "duration": 4,
    "start_time": "2023-07-20T10:50:12.480Z"
   },
   {
    "duration": 39,
    "start_time": "2023-07-20T10:50:12.485Z"
   },
   {
    "duration": 6,
    "start_time": "2023-07-20T10:50:12.526Z"
   },
   {
    "duration": 15,
    "start_time": "2023-07-20T10:50:12.533Z"
   },
   {
    "duration": 9,
    "start_time": "2023-07-20T10:50:12.551Z"
   },
   {
    "duration": 301,
    "start_time": "2023-07-20T10:50:12.561Z"
   },
   {
    "duration": 3,
    "start_time": "2023-07-20T10:50:12.864Z"
   },
   {
    "duration": 638,
    "start_time": "2023-07-20T10:50:12.868Z"
   },
   {
    "duration": 359,
    "start_time": "2023-07-20T10:51:05.520Z"
   },
   {
    "duration": 388,
    "start_time": "2023-07-20T10:51:35.779Z"
   },
   {
    "duration": 1648,
    "start_time": "2023-07-20T10:55:43.767Z"
   },
   {
    "duration": 114,
    "start_time": "2023-07-20T10:55:45.417Z"
   },
   {
    "duration": 0,
    "start_time": "2023-07-20T10:55:45.533Z"
   },
   {
    "duration": 0,
    "start_time": "2023-07-20T10:55:45.534Z"
   },
   {
    "duration": 0,
    "start_time": "2023-07-20T10:55:45.535Z"
   },
   {
    "duration": 0,
    "start_time": "2023-07-20T10:55:45.536Z"
   },
   {
    "duration": 0,
    "start_time": "2023-07-20T10:55:45.552Z"
   },
   {
    "duration": 0,
    "start_time": "2023-07-20T10:55:45.553Z"
   },
   {
    "duration": 0,
    "start_time": "2023-07-20T10:55:45.555Z"
   },
   {
    "duration": 0,
    "start_time": "2023-07-20T10:55:45.556Z"
   },
   {
    "duration": 0,
    "start_time": "2023-07-20T10:55:45.557Z"
   },
   {
    "duration": 0,
    "start_time": "2023-07-20T10:55:45.559Z"
   },
   {
    "duration": 0,
    "start_time": "2023-07-20T10:55:45.560Z"
   },
   {
    "duration": 0,
    "start_time": "2023-07-20T10:55:45.561Z"
   },
   {
    "duration": 0,
    "start_time": "2023-07-20T10:55:45.562Z"
   },
   {
    "duration": 0,
    "start_time": "2023-07-20T10:55:45.563Z"
   },
   {
    "duration": 0,
    "start_time": "2023-07-20T10:55:45.565Z"
   },
   {
    "duration": 0,
    "start_time": "2023-07-20T10:55:45.566Z"
   },
   {
    "duration": 0,
    "start_time": "2023-07-20T10:55:45.567Z"
   },
   {
    "duration": 0,
    "start_time": "2023-07-20T10:55:45.568Z"
   },
   {
    "duration": 0,
    "start_time": "2023-07-20T10:55:45.569Z"
   },
   {
    "duration": 0,
    "start_time": "2023-07-20T10:55:45.570Z"
   },
   {
    "duration": 0,
    "start_time": "2023-07-20T10:55:45.571Z"
   },
   {
    "duration": 0,
    "start_time": "2023-07-20T10:55:45.572Z"
   },
   {
    "duration": 0,
    "start_time": "2023-07-20T10:55:45.574Z"
   },
   {
    "duration": 0,
    "start_time": "2023-07-20T10:55:45.575Z"
   },
   {
    "duration": 0,
    "start_time": "2023-07-20T10:55:45.576Z"
   },
   {
    "duration": 0,
    "start_time": "2023-07-20T10:55:45.577Z"
   },
   {
    "duration": 0,
    "start_time": "2023-07-20T10:55:45.580Z"
   },
   {
    "duration": 0,
    "start_time": "2023-07-20T10:55:45.581Z"
   },
   {
    "duration": 0,
    "start_time": "2023-07-20T10:55:45.582Z"
   },
   {
    "duration": 0,
    "start_time": "2023-07-20T10:55:45.583Z"
   },
   {
    "duration": 0,
    "start_time": "2023-07-20T10:55:45.585Z"
   },
   {
    "duration": 0,
    "start_time": "2023-07-20T10:55:45.585Z"
   },
   {
    "duration": 0,
    "start_time": "2023-07-20T10:55:45.587Z"
   },
   {
    "duration": 0,
    "start_time": "2023-07-20T10:55:45.587Z"
   },
   {
    "duration": 0,
    "start_time": "2023-07-20T10:55:45.589Z"
   },
   {
    "duration": 0,
    "start_time": "2023-07-20T10:55:45.590Z"
   },
   {
    "duration": 0,
    "start_time": "2023-07-20T10:55:45.652Z"
   },
   {
    "duration": 0,
    "start_time": "2023-07-20T10:55:45.654Z"
   },
   {
    "duration": 0,
    "start_time": "2023-07-20T10:55:45.655Z"
   },
   {
    "duration": 0,
    "start_time": "2023-07-20T10:55:45.656Z"
   },
   {
    "duration": 0,
    "start_time": "2023-07-20T10:55:45.657Z"
   },
   {
    "duration": 0,
    "start_time": "2023-07-20T10:55:45.658Z"
   },
   {
    "duration": 5,
    "start_time": "2023-07-20T10:56:15.740Z"
   },
   {
    "duration": 1601,
    "start_time": "2023-07-20T10:56:22.900Z"
   },
   {
    "duration": 41,
    "start_time": "2023-07-20T10:56:24.503Z"
   },
   {
    "duration": 5,
    "start_time": "2023-07-20T10:56:24.546Z"
   },
   {
    "duration": 57,
    "start_time": "2023-07-20T10:56:24.553Z"
   },
   {
    "duration": 4,
    "start_time": "2023-07-20T10:56:24.612Z"
   },
   {
    "duration": 25,
    "start_time": "2023-07-20T10:56:24.618Z"
   },
   {
    "duration": 43,
    "start_time": "2023-07-20T10:56:24.645Z"
   },
   {
    "duration": 21,
    "start_time": "2023-07-20T10:56:24.690Z"
   },
   {
    "duration": 25,
    "start_time": "2023-07-20T10:56:24.713Z"
   },
   {
    "duration": 43,
    "start_time": "2023-07-20T10:56:24.741Z"
   },
   {
    "duration": 138,
    "start_time": "2023-07-20T10:56:24.785Z"
   },
   {
    "duration": 9,
    "start_time": "2023-07-20T10:56:24.925Z"
   },
   {
    "duration": 19,
    "start_time": "2023-07-20T10:56:24.936Z"
   },
   {
    "duration": 32,
    "start_time": "2023-07-20T10:56:24.956Z"
   },
   {
    "duration": 10,
    "start_time": "2023-07-20T10:56:24.990Z"
   },
   {
    "duration": 2089,
    "start_time": "2023-07-20T10:56:25.001Z"
   },
   {
    "duration": 38,
    "start_time": "2023-07-20T10:56:27.092Z"
   },
   {
    "duration": 58,
    "start_time": "2023-07-20T10:56:27.132Z"
   },
   {
    "duration": 3,
    "start_time": "2023-07-20T10:56:27.192Z"
   },
   {
    "duration": 16,
    "start_time": "2023-07-20T10:56:27.197Z"
   },
   {
    "duration": 11,
    "start_time": "2023-07-20T10:56:27.214Z"
   },
   {
    "duration": 15,
    "start_time": "2023-07-20T10:56:27.227Z"
   },
   {
    "duration": 51,
    "start_time": "2023-07-20T10:56:27.244Z"
   },
   {
    "duration": 13,
    "start_time": "2023-07-20T10:56:27.297Z"
   },
   {
    "duration": 9,
    "start_time": "2023-07-20T10:56:27.312Z"
   },
   {
    "duration": 11,
    "start_time": "2023-07-20T10:56:27.322Z"
   },
   {
    "duration": 23,
    "start_time": "2023-07-20T10:56:27.335Z"
   },
   {
    "duration": 2052,
    "start_time": "2023-07-20T10:56:27.362Z"
   },
   {
    "duration": 4,
    "start_time": "2023-07-20T10:56:29.417Z"
   },
   {
    "duration": 18,
    "start_time": "2023-07-20T10:56:29.422Z"
   },
   {
    "duration": 21,
    "start_time": "2023-07-20T10:56:29.441Z"
   },
   {
    "duration": 31,
    "start_time": "2023-07-20T10:56:29.464Z"
   },
   {
    "duration": 12,
    "start_time": "2023-07-20T10:56:29.496Z"
   },
   {
    "duration": 12,
    "start_time": "2023-07-20T10:56:29.510Z"
   },
   {
    "duration": 9,
    "start_time": "2023-07-20T10:56:29.523Z"
   },
   {
    "duration": 35,
    "start_time": "2023-07-20T10:56:29.534Z"
   },
   {
    "duration": 3,
    "start_time": "2023-07-20T10:56:29.571Z"
   },
   {
    "duration": 17,
    "start_time": "2023-07-20T10:56:29.576Z"
   },
   {
    "duration": 8,
    "start_time": "2023-07-20T10:56:29.595Z"
   },
   {
    "duration": 25,
    "start_time": "2023-07-20T10:56:29.605Z"
   },
   {
    "duration": 32,
    "start_time": "2023-07-20T10:56:29.631Z"
   },
   {
    "duration": 282,
    "start_time": "2023-07-20T10:56:29.665Z"
   },
   {
    "duration": 5,
    "start_time": "2023-07-20T10:56:29.948Z"
   },
   {
    "duration": 86891,
    "start_time": "2023-07-20T10:56:29.954Z"
   },
   {
    "duration": 129,
    "start_time": "2023-07-20T11:02:35.248Z"
   },
   {
    "duration": 1597,
    "start_time": "2023-07-20T11:03:08.112Z"
   },
   {
    "duration": 41,
    "start_time": "2023-07-20T11:03:09.711Z"
   },
   {
    "duration": 3,
    "start_time": "2023-07-20T11:03:09.754Z"
   },
   {
    "duration": 34,
    "start_time": "2023-07-20T11:03:09.759Z"
   },
   {
    "duration": 4,
    "start_time": "2023-07-20T11:03:09.795Z"
   },
   {
    "duration": 11,
    "start_time": "2023-07-20T11:03:09.800Z"
   },
   {
    "duration": 18,
    "start_time": "2023-07-20T11:03:09.812Z"
   },
   {
    "duration": 22,
    "start_time": "2023-07-20T11:03:09.832Z"
   },
   {
    "duration": 32,
    "start_time": "2023-07-20T11:03:09.856Z"
   },
   {
    "duration": 40,
    "start_time": "2023-07-20T11:03:09.890Z"
   },
   {
    "duration": 130,
    "start_time": "2023-07-20T11:03:09.932Z"
   },
   {
    "duration": 8,
    "start_time": "2023-07-20T11:03:10.063Z"
   },
   {
    "duration": 27,
    "start_time": "2023-07-20T11:03:10.073Z"
   },
   {
    "duration": 8,
    "start_time": "2023-07-20T11:03:10.102Z"
   },
   {
    "duration": 15,
    "start_time": "2023-07-20T11:03:10.112Z"
   },
   {
    "duration": 2121,
    "start_time": "2023-07-20T11:03:10.129Z"
   },
   {
    "duration": 37,
    "start_time": "2023-07-20T11:03:12.252Z"
   },
   {
    "duration": 61,
    "start_time": "2023-07-20T11:03:12.291Z"
   },
   {
    "duration": 15,
    "start_time": "2023-07-20T11:03:12.355Z"
   },
   {
    "duration": 31,
    "start_time": "2023-07-20T11:03:12.372Z"
   },
   {
    "duration": 12,
    "start_time": "2023-07-20T11:03:12.404Z"
   },
   {
    "duration": 11,
    "start_time": "2023-07-20T11:03:12.418Z"
   },
   {
    "duration": 47,
    "start_time": "2023-07-20T11:03:12.430Z"
   },
   {
    "duration": 16,
    "start_time": "2023-07-20T11:03:12.479Z"
   },
   {
    "duration": 5,
    "start_time": "2023-07-20T11:03:12.497Z"
   },
   {
    "duration": 18,
    "start_time": "2023-07-20T11:03:12.504Z"
   },
   {
    "duration": 36,
    "start_time": "2023-07-20T11:03:12.524Z"
   },
   {
    "duration": 2099,
    "start_time": "2023-07-20T11:03:12.565Z"
   },
   {
    "duration": 5,
    "start_time": "2023-07-20T11:03:14.666Z"
   },
   {
    "duration": 9,
    "start_time": "2023-07-20T11:03:14.672Z"
   },
   {
    "duration": 10,
    "start_time": "2023-07-20T11:03:14.683Z"
   },
   {
    "duration": 11,
    "start_time": "2023-07-20T11:03:14.695Z"
   },
   {
    "duration": 20,
    "start_time": "2023-07-20T11:03:14.708Z"
   },
   {
    "duration": 15,
    "start_time": "2023-07-20T11:03:14.730Z"
   },
   {
    "duration": 4,
    "start_time": "2023-07-20T11:03:14.751Z"
   },
   {
    "duration": 27,
    "start_time": "2023-07-20T11:03:14.757Z"
   },
   {
    "duration": 3,
    "start_time": "2023-07-20T11:03:14.786Z"
   },
   {
    "duration": 13,
    "start_time": "2023-07-20T11:03:14.791Z"
   },
   {
    "duration": 4,
    "start_time": "2023-07-20T11:03:14.806Z"
   },
   {
    "duration": 11,
    "start_time": "2023-07-20T11:03:14.811Z"
   },
   {
    "duration": 7,
    "start_time": "2023-07-20T11:03:14.824Z"
   },
   {
    "duration": 306,
    "start_time": "2023-07-20T11:03:14.832Z"
   },
   {
    "duration": 85434,
    "start_time": "2023-07-20T11:03:15.140Z"
   },
   {
    "duration": 528,
    "start_time": "2023-07-20T11:04:40.576Z"
   },
   {
    "duration": 1828,
    "start_time": "2023-07-20T11:10:18.520Z"
   },
   {
    "duration": 43,
    "start_time": "2023-07-20T11:10:20.350Z"
   },
   {
    "duration": 5,
    "start_time": "2023-07-20T11:10:20.395Z"
   },
   {
    "duration": 63,
    "start_time": "2023-07-20T11:10:20.402Z"
   },
   {
    "duration": 5,
    "start_time": "2023-07-20T11:10:20.468Z"
   },
   {
    "duration": 102,
    "start_time": "2023-07-20T11:10:20.476Z"
   },
   {
    "duration": 33,
    "start_time": "2023-07-20T11:10:20.581Z"
   },
   {
    "duration": 34,
    "start_time": "2023-07-20T11:10:20.616Z"
   },
   {
    "duration": 30,
    "start_time": "2023-07-20T11:10:20.653Z"
   },
   {
    "duration": 125,
    "start_time": "2023-07-20T11:10:20.686Z"
   },
   {
    "duration": 172,
    "start_time": "2023-07-20T11:10:20.813Z"
   },
   {
    "duration": 11,
    "start_time": "2023-07-20T11:10:20.987Z"
   },
   {
    "duration": 17,
    "start_time": "2023-07-20T11:10:21.000Z"
   },
   {
    "duration": 11,
    "start_time": "2023-07-20T11:10:21.021Z"
   },
   {
    "duration": 22,
    "start_time": "2023-07-20T11:10:21.035Z"
   },
   {
    "duration": 2388,
    "start_time": "2023-07-20T11:10:21.059Z"
   },
   {
    "duration": 44,
    "start_time": "2023-07-20T11:10:23.448Z"
   },
   {
    "duration": 85,
    "start_time": "2023-07-20T11:10:23.494Z"
   },
   {
    "duration": 6,
    "start_time": "2023-07-20T11:10:23.581Z"
   },
   {
    "duration": 17,
    "start_time": "2023-07-20T11:10:23.590Z"
   },
   {
    "duration": 22,
    "start_time": "2023-07-20T11:10:23.610Z"
   },
   {
    "duration": 35,
    "start_time": "2023-07-20T11:10:23.634Z"
   },
   {
    "duration": 72,
    "start_time": "2023-07-20T11:10:23.671Z"
   },
   {
    "duration": 20,
    "start_time": "2023-07-20T11:10:23.747Z"
   },
   {
    "duration": 6,
    "start_time": "2023-07-20T11:10:23.769Z"
   },
   {
    "duration": 22,
    "start_time": "2023-07-20T11:10:23.777Z"
   },
   {
    "duration": 19,
    "start_time": "2023-07-20T11:10:23.802Z"
   },
   {
    "duration": 2661,
    "start_time": "2023-07-20T11:10:23.824Z"
   },
   {
    "duration": 7,
    "start_time": "2023-07-20T11:10:26.488Z"
   },
   {
    "duration": 18,
    "start_time": "2023-07-20T11:10:26.497Z"
   },
   {
    "duration": 32,
    "start_time": "2023-07-20T11:10:26.518Z"
   },
   {
    "duration": 4,
    "start_time": "2023-07-20T11:10:26.554Z"
   },
   {
    "duration": 8,
    "start_time": "2023-07-20T11:10:26.561Z"
   },
   {
    "duration": 9,
    "start_time": "2023-07-20T11:10:26.571Z"
   },
   {
    "duration": 27,
    "start_time": "2023-07-20T11:10:26.583Z"
   },
   {
    "duration": 42,
    "start_time": "2023-07-20T11:10:26.613Z"
   },
   {
    "duration": 4,
    "start_time": "2023-07-20T11:10:26.658Z"
   },
   {
    "duration": 25,
    "start_time": "2023-07-20T11:10:26.664Z"
   },
   {
    "duration": 12,
    "start_time": "2023-07-20T11:10:26.690Z"
   },
   {
    "duration": 31,
    "start_time": "2023-07-20T11:10:26.704Z"
   },
   {
    "duration": 10,
    "start_time": "2023-07-20T11:10:26.739Z"
   },
   {
    "duration": 300,
    "start_time": "2023-07-20T11:10:26.752Z"
   },
   {
    "duration": 92050,
    "start_time": "2023-07-20T11:10:27.054Z"
   }
  ],
  "hide_input": false,
  "kernelspec": {
   "display_name": "Python 3 (ipykernel)",
   "language": "python",
   "name": "python3"
  },
  "language_info": {
   "codemirror_mode": {
    "name": "ipython",
    "version": 3
   },
   "file_extension": ".py",
   "mimetype": "text/x-python",
   "name": "python",
   "nbconvert_exporter": "python",
   "pygments_lexer": "ipython3",
   "version": "3.9.7"
  },
  "toc": {
   "base_numbering": 1,
   "nav_menu": {},
   "number_sections": true,
   "sideBar": true,
   "skip_h1_title": true,
   "title_cell": "Содержание",
   "title_sidebar": "Contents",
   "toc_cell": true,
   "toc_position": {
    "height": "754.8px",
    "left": "160.962px",
    "top": "180px",
    "width": "165px"
   },
   "toc_section_display": true,
   "toc_window_display": true
  }
 },
 "nbformat": 4,
 "nbformat_minor": 2
}
